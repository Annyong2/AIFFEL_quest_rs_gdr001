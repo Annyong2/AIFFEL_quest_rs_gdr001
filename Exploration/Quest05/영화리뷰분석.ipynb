{
 "cells": [
  {
   "cell_type": "code",
   "execution_count": 33,
   "id": "3e7cc9ee",
   "metadata": {},
   "outputs": [],
   "source": [
    "import pandas as pd\n",
    "import konlpy\n",
    "import gensim\n",
    "import numpy as np\n",
    "import tensorflow as tf\n",
    "import os\n",
    "import matplotlib.pyplot as plt"
   ]
  },
  {
   "cell_type": "code",
   "execution_count": 3,
   "id": "a4dde956",
   "metadata": {},
   "outputs": [
    {
     "data": {
      "text/html": [
       "<div>\n",
       "<style scoped>\n",
       "    .dataframe tbody tr th:only-of-type {\n",
       "        vertical-align: middle;\n",
       "    }\n",
       "\n",
       "    .dataframe tbody tr th {\n",
       "        vertical-align: top;\n",
       "    }\n",
       "\n",
       "    .dataframe thead th {\n",
       "        text-align: right;\n",
       "    }\n",
       "</style>\n",
       "<table border=\"1\" class=\"dataframe\">\n",
       "  <thead>\n",
       "    <tr style=\"text-align: right;\">\n",
       "      <th></th>\n",
       "      <th>id</th>\n",
       "      <th>document</th>\n",
       "      <th>label</th>\n",
       "    </tr>\n",
       "  </thead>\n",
       "  <tbody>\n",
       "    <tr>\n",
       "      <th>0</th>\n",
       "      <td>9976970</td>\n",
       "      <td>아 더빙.. 진짜 짜증나네요 목소리</td>\n",
       "      <td>0</td>\n",
       "    </tr>\n",
       "    <tr>\n",
       "      <th>1</th>\n",
       "      <td>3819312</td>\n",
       "      <td>흠...포스터보고 초딩영화줄....오버연기조차 가볍지 않구나</td>\n",
       "      <td>1</td>\n",
       "    </tr>\n",
       "    <tr>\n",
       "      <th>2</th>\n",
       "      <td>10265843</td>\n",
       "      <td>너무재밓었다그래서보는것을추천한다</td>\n",
       "      <td>0</td>\n",
       "    </tr>\n",
       "    <tr>\n",
       "      <th>3</th>\n",
       "      <td>9045019</td>\n",
       "      <td>교도소 이야기구먼 ..솔직히 재미는 없다..평점 조정</td>\n",
       "      <td>0</td>\n",
       "    </tr>\n",
       "    <tr>\n",
       "      <th>4</th>\n",
       "      <td>6483659</td>\n",
       "      <td>사이몬페그의 익살스런 연기가 돋보였던 영화!스파이더맨에서 늙어보이기만 했던 커스틴 ...</td>\n",
       "      <td>1</td>\n",
       "    </tr>\n",
       "  </tbody>\n",
       "</table>\n",
       "</div>"
      ],
      "text/plain": [
       "         id                                           document  label\n",
       "0   9976970                                아 더빙.. 진짜 짜증나네요 목소리      0\n",
       "1   3819312                  흠...포스터보고 초딩영화줄....오버연기조차 가볍지 않구나      1\n",
       "2  10265843                                  너무재밓었다그래서보는것을추천한다      0\n",
       "3   9045019                      교도소 이야기구먼 ..솔직히 재미는 없다..평점 조정      0\n",
       "4   6483659  사이몬페그의 익살스런 연기가 돋보였던 영화!스파이더맨에서 늙어보이기만 했던 커스틴 ...      1"
      ]
     },
     "execution_count": 3,
     "metadata": {},
     "output_type": "execute_result"
    }
   ],
   "source": [
    "# 데이터를 읽어봅시다. \n",
    "train_data = pd.read_table('~/aiffel/sentiment_classification/data/ratings_train.txt')\n",
    "test_data = pd.read_table('~/aiffel/sentiment_classification/data/ratings_test.txt')\n",
    "\n",
    "train_data.head()"
   ]
  },
  {
   "cell_type": "markdown",
   "id": "d057c2ae",
   "metadata": {},
   "source": [
    "# 2. 데이터로더 구성"
   ]
  },
  {
   "cell_type": "markdown",
   "id": "d7c84151",
   "metadata": {},
   "source": [
    "데이터의 중복 확인 후 제거하기"
   ]
  },
  {
   "cell_type": "code",
   "execution_count": 9,
   "id": "9059fc2f",
   "metadata": {},
   "outputs": [
    {
     "data": {
      "text/plain": [
       "(146182, 2)"
      ]
     },
     "execution_count": 9,
     "metadata": {},
     "output_type": "execute_result"
    }
   ],
   "source": [
    "# document 열과 label 열의 중복을 제외한 값의 개수\n",
    "train_data['document'].nunique(), train_data['label'].nunique()"
   ]
  },
  {
   "cell_type": "code",
   "execution_count": 11,
   "id": "aeceeda4",
   "metadata": {},
   "outputs": [
    {
     "name": "stdout",
     "output_type": "stream",
     "text": [
      "총 샘플의 수 : 146183\n"
     ]
    }
   ],
   "source": [
    "# document 열의 중복 제거\n",
    "train_data.drop_duplicates(subset=['document'], inplace=True)\n",
    "print('총 샘플의 수 :',len(train_data))"
   ]
  },
  {
   "cell_type": "markdown",
   "id": "122702e4",
   "metadata": {},
   "source": [
    "결측치 제거하기"
   ]
  },
  {
   "cell_type": "code",
   "execution_count": 12,
   "id": "077a722b",
   "metadata": {},
   "outputs": [
    {
     "name": "stdout",
     "output_type": "stream",
     "text": [
      "True\n"
     ]
    }
   ],
   "source": [
    "# 리뷰 중에 Null 값을 가진 샘플이 있는지 확인\n",
    "print(train_data.isnull().values.any())"
   ]
  },
  {
   "cell_type": "code",
   "execution_count": 13,
   "id": "dece174f",
   "metadata": {},
   "outputs": [
    {
     "name": "stdout",
     "output_type": "stream",
     "text": [
      "id          0\n",
      "document    1\n",
      "label       0\n",
      "dtype: int64\n"
     ]
    }
   ],
   "source": [
    "print(train_data.isnull().sum())"
   ]
  },
  {
   "cell_type": "code",
   "execution_count": 14,
   "id": "0f6935df",
   "metadata": {},
   "outputs": [
    {
     "data": {
      "text/html": [
       "<div>\n",
       "<style scoped>\n",
       "    .dataframe tbody tr th:only-of-type {\n",
       "        vertical-align: middle;\n",
       "    }\n",
       "\n",
       "    .dataframe tbody tr th {\n",
       "        vertical-align: top;\n",
       "    }\n",
       "\n",
       "    .dataframe thead th {\n",
       "        text-align: right;\n",
       "    }\n",
       "</style>\n",
       "<table border=\"1\" class=\"dataframe\">\n",
       "  <thead>\n",
       "    <tr style=\"text-align: right;\">\n",
       "      <th></th>\n",
       "      <th>id</th>\n",
       "      <th>document</th>\n",
       "      <th>label</th>\n",
       "    </tr>\n",
       "  </thead>\n",
       "  <tbody>\n",
       "    <tr>\n",
       "      <th>25857</th>\n",
       "      <td>2172111</td>\n",
       "      <td>NaN</td>\n",
       "      <td>1</td>\n",
       "    </tr>\n",
       "  </tbody>\n",
       "</table>\n",
       "</div>"
      ],
      "text/plain": [
       "            id document  label\n",
       "25857  2172111      NaN      1"
      ]
     },
     "execution_count": 14,
     "metadata": {},
     "output_type": "execute_result"
    }
   ],
   "source": [
    "train_data.loc[train_data.document.isnull()]"
   ]
  },
  {
   "cell_type": "code",
   "execution_count": 15,
   "id": "35ad5b0c",
   "metadata": {},
   "outputs": [
    {
     "name": "stdout",
     "output_type": "stream",
     "text": [
      "False\n"
     ]
    }
   ],
   "source": [
    "train_data = train_data.dropna(how = 'any') # Null 값이 존재하는 행 제거\n",
    "print(train_data.isnull().values.any()) # Null 값이 존재하는지 확인"
   ]
  },
  {
   "cell_type": "code",
   "execution_count": 16,
   "id": "b53e464b",
   "metadata": {
    "scrolled": true
   },
   "outputs": [
    {
     "name": "stdout",
     "output_type": "stream",
     "text": [
      "146182\n"
     ]
    }
   ],
   "source": [
    "print(len(train_data))"
   ]
  },
  {
   "cell_type": "code",
   "execution_count": 18,
   "id": "b5b9b599",
   "metadata": {},
   "outputs": [
    {
     "data": {
      "text/plain": [
       "(49157, 2)"
      ]
     },
     "execution_count": 18,
     "metadata": {},
     "output_type": "execute_result"
    }
   ],
   "source": [
    "# document 열과 label 열의 중복을 제외한 값의 개수\n",
    "test_data['document'].nunique(), test_data['label'].nunique()"
   ]
  },
  {
   "cell_type": "code",
   "execution_count": 20,
   "id": "79421f4a",
   "metadata": {},
   "outputs": [
    {
     "name": "stdout",
     "output_type": "stream",
     "text": [
      "총 샘플의 수 : 49158\n"
     ]
    }
   ],
   "source": [
    "# document 열의 중복 제거\n",
    "test_data.drop_duplicates(subset=['document'], inplace=True)\n",
    "print('총 샘플의 수 :',len(test_data))"
   ]
  },
  {
   "cell_type": "code",
   "execution_count": 21,
   "id": "8c7d25e4",
   "metadata": {
    "scrolled": true
   },
   "outputs": [
    {
     "name": "stdout",
     "output_type": "stream",
     "text": [
      "True\n"
     ]
    }
   ],
   "source": [
    "# 리뷰 중에 Null 값을 가진 샘플이 있는지 확인\n",
    "print(test_data.isnull().values.any())"
   ]
  },
  {
   "cell_type": "code",
   "execution_count": 23,
   "id": "7cf8a690",
   "metadata": {
    "scrolled": true
   },
   "outputs": [
    {
     "name": "stdout",
     "output_type": "stream",
     "text": [
      "id          0\n",
      "document    1\n",
      "label       0\n",
      "dtype: int64\n"
     ]
    }
   ],
   "source": [
    "print(test_data.isnull().sum())"
   ]
  },
  {
   "cell_type": "code",
   "execution_count": 24,
   "id": "613ed6dc",
   "metadata": {},
   "outputs": [
    {
     "name": "stdout",
     "output_type": "stream",
     "text": [
      "False\n"
     ]
    }
   ],
   "source": [
    "test_data = test_data.dropna(how = 'any') # Null 값이 존재하는 행 제거\n",
    "print(test_data.isnull().values.any()) # Null 값이 존재하는지 확인"
   ]
  },
  {
   "cell_type": "code",
   "execution_count": 25,
   "id": "1c8afba6",
   "metadata": {},
   "outputs": [
    {
     "name": "stdout",
     "output_type": "stream",
     "text": [
      "49157\n"
     ]
    }
   ],
   "source": [
    "print(len(test_data))"
   ]
  },
  {
   "cell_type": "markdown",
   "id": "c9f10d21",
   "metadata": {},
   "source": [
    "한국어 토크나이저로 토큰화 및 불용어 제거, 사전 구성"
   ]
  },
  {
   "cell_type": "code",
   "execution_count": 26,
   "id": "c9b2436b",
   "metadata": {},
   "outputs": [],
   "source": [
    "from konlpy.tag import Mecab\n",
    "import numpy as np\n",
    "from collections import Counter\n",
    "\n",
    "tokenizer = Mecab()\n",
    "stopwords = ['의','가','이','은','들','는','좀','잘','걍','과','도','를','으로','자','에','와','한','하다']\n",
    "\n",
    "def load_data(train_data, test_data, num_words=10000):\n",
    "    train_data.drop_duplicates(subset=['document'], inplace=True)\n",
    "    train_data = train_data.dropna(how='any') \n",
    "    test_data.drop_duplicates(subset=['document'], inplace=True)\n",
    "    test_data = test_data.dropna(how='any') \n",
    "    \n",
    "    X_train = []\n",
    "    for sentence in train_data['document']:\n",
    "        temp_X = tokenizer.morphs(sentence)  # 토큰화\n",
    "        temp_X = [word for word in temp_X if not word in stopwords]  # 불용어 제거\n",
    "        X_train.append(temp_X)\n",
    "\n",
    "    X_test = []\n",
    "    for sentence in test_data['document']:\n",
    "        temp_X = tokenizer.morphs(sentence)  # 토큰화\n",
    "        temp_X = [word for word in temp_X if not word in stopwords]  # 불용어 제거\n",
    "        X_test.append(temp_X)\n",
    "    \n",
    "    # 단어 빈도수 계산\n",
    "    words = np.concatenate(X_train).tolist()\n",
    "    counter = Counter(words)\n",
    "    counter = counter.most_common(num_words - 4)  # 상위 num_words-4개의 단어 선택\n",
    "    \n",
    "    # 사전 구축\n",
    "    vocab = ['<PAD>', '<BOS>', '<UNK>', '<UNUSED>'] + [key for key, _ in counter]\n",
    "    word_to_index = {word: index for index, word in enumerate(vocab)}\n",
    "    \n",
    "    def wordlist_to_indexlist(wordlist):\n",
    "        return [word_to_index[word] if word in word_to_index else word_to_index['<UNK>'] for word in wordlist]\n",
    "        \n",
    "    X_train = list(map(wordlist_to_indexlist, X_train))\n",
    "    X_test = list(map(wordlist_to_indexlist, X_test))\n",
    "        \n",
    "    return X_train, np.array(list(train_data['label'])), X_test, np.array(list(test_data['label'])), word_to_index\n",
    "    \n",
    "X_train, y_train, X_test, y_test, word_to_index = load_data(train_data, test_data)"
   ]
  },
  {
   "cell_type": "code",
   "execution_count": 27,
   "id": "fcdd631f",
   "metadata": {},
   "outputs": [],
   "source": [
    "index_to_word = {index:word for word, index in word_to_index.items()}"
   ]
  },
  {
   "cell_type": "markdown",
   "id": "56d99cb9",
   "metadata": {},
   "source": [
    "텍스트 스트링을 인덱스 스트링으로 변환, 리턴"
   ]
  },
  {
   "cell_type": "code",
   "execution_count": 28,
   "id": "51288586",
   "metadata": {},
   "outputs": [],
   "source": [
    "# 문장 1개를 활용할 딕셔너리와 함께 주면, 단어 인덱스 리스트 벡터로 변환해 주는 함수입니다. \n",
    "# 단, 모든 문장은 <BOS>로 시작하는 것으로 합니다. \n",
    "def get_encoded_sentence(sentence, word_to_index):\n",
    "    return [word_to_index['<BOS>']]+[word_to_index[word] if word in word_to_index else word_to_index['<UNK>'] for word in sentence.split()]\n",
    "\n",
    "# 여러 개의 문장 리스트를 한꺼번에 단어 인덱스 리스트 벡터로 encode해 주는 함수입니다. \n",
    "def get_encoded_sentences(sentences, word_to_index):\n",
    "    return [get_encoded_sentence(sentence, word_to_index) for sentence in sentences]\n",
    "\n",
    "# 숫자 벡터로 encode된 문장을 원래대로 decode하는 함수입니다. \n",
    "def get_decoded_sentence(encoded_sentence, index_to_word):\n",
    "    return ' '.join(index_to_word[index] if index in index_to_word else '<UNK>' for index in encoded_sentence[1:])  #[1:]를 통해 <BOS>를 제외\n",
    "\n",
    "# 여러 개의 숫자 벡터로 encode된 문장을 한꺼번에 원래대로 decode하는 함수입니다. \n",
    "def get_decoded_sentences(encoded_sentences, index_to_word):\n",
    "    return [get_decoded_sentence(encoded_sentence, index_to_word) for encoded_sentence in encoded_sentences]"
   ]
  },
  {
   "cell_type": "markdown",
   "id": "2fc1ada5",
   "metadata": {},
   "source": [
    "# 3. 모델 구성을 위한 데이터 분석 및 가공"
   ]
  },
  {
   "cell_type": "code",
   "execution_count": 34,
   "id": "e97126be",
   "metadata": {},
   "outputs": [
    {
     "name": "stdout",
     "output_type": "stream",
     "text": [
      "리뷰의 최대 길이 : 116\n",
      "리뷰의 평균 길이 : 15.98170773419436\n"
     ]
    },
    {
     "data": {
      "image/png": "[encoded data removed]",
      "text/plain": [
       "<Figure size 432x288 with 1 Axes>"
      ]
     },
     "metadata": {
      "needs_background": "light"
     },
     "output_type": "display_data"
    }
   ],
   "source": [
    "print('리뷰의 최대 길이 :',max(len(review) for review in X_train))\n",
    "print('리뷰의 평균 길이 :',sum(map(len, X_train))/len(X_train))\n",
    "plt.hist([len(review) for review in X_train], bins=50)\n",
    "plt.xlabel('length of samples')\n",
    "plt.ylabel('number of samples')\n",
    "plt.show()"
   ]
  },
  {
   "cell_type": "code",
   "execution_count": 37,
   "id": "b555613b",
   "metadata": {},
   "outputs": [
    {
     "name": "stdout",
     "output_type": "stream",
     "text": [
      "전체 샘플 중 길이가 50 이하인 샘플의 비율: 96.03439547960761\n"
     ]
    }
   ],
   "source": [
    "def below_threshold_len(max_len, nested_list):\n",
    "  count = 0\n",
    "  for sentence in nested_list:\n",
    "    if(len(sentence) <= max_len):\n",
    "        count = count + 1\n",
    "  print('전체 샘플 중 길이가 %s 이하인 샘플의 비율: %s'%(max_len, (count / len(nested_list))*100))\n",
    "\n",
    "max_len = 50\n",
    "below_threshold_len(max_len, X_train)"
   ]
  },
  {
   "cell_type": "code",
   "execution_count": 39,
   "id": "983bc6fd",
   "metadata": {},
   "outputs": [],
   "source": [
    "# 패딩 추가\n",
    "X_train = tf.keras.preprocessing.sequence.pad_sequences(X_train,\n",
    "                                                        value=word_to_index[\"<PAD>\"],\n",
    "                                                        padding='pre',\n",
    "                                                        maxlen=max_len)\n",
    "X_test = tf.keras.preprocessing.sequence.pad_sequences(X_test,\n",
    "                                                        value=word_to_index[\"<PAD>\"],\n",
    "                                                        padding='pre',\n",
    "                                                        maxlen=max_len)"
   ]
  },
  {
   "cell_type": "markdown",
   "id": "bb7d9982",
   "metadata": {},
   "source": [
    "# 4. 모델 구성 및 Validation Set 구성"
   ]
  },
  {
   "cell_type": "markdown",
   "id": "0577879c",
   "metadata": {},
   "source": [
    "1. LSTM"
   ]
  },
  {
   "cell_type": "code",
   "execution_count": 40,
   "id": "9bb56251",
   "metadata": {},
   "outputs": [
    {
     "name": "stdout",
     "output_type": "stream",
     "text": [
      "Model: \"sequential\"\n",
      "_________________________________________________________________\n",
      "Layer (type)                 Output Shape              Param #   \n",
      "=================================================================\n",
      "embedding (Embedding)        (None, None, 16)          160000    \n",
      "_________________________________________________________________\n",
      "lstm (LSTM)                  (None, 8)                 800       \n",
      "_________________________________________________________________\n",
      "dense (Dense)                (None, 8)                 72        \n",
      "_________________________________________________________________\n",
      "dense_1 (Dense)              (None, 1)                 9         \n",
      "=================================================================\n",
      "Total params: 160,881\n",
      "Trainable params: 160,881\n",
      "Non-trainable params: 0\n",
      "_________________________________________________________________\n"
     ]
    }
   ],
   "source": [
    "vocab_size = len(word_to_index)   # 어휘 사전의 크기입니다(10,000개의 단어)\n",
    "word_vector_dim = 16  # 워드 벡터의 차원 수 (변경 가능한 하이퍼파라미터)\n",
    "\n",
    "model1 = tf.keras.Sequential()\n",
    "model1.add(tf.keras.layers.Embedding(vocab_size, word_vector_dim, input_shape=(None,)))\n",
    "model1.add(tf.keras.layers.LSTM(8))   # 가장 널리 쓰이는 RNN인 LSTM 레이어를 사용하였습니다. 이때 LSTM state 벡터의 차원수는 8로 하였습니다. (변경 가능)\n",
    "model1.add(tf.keras.layers.Dense(8, activation='relu'))\n",
    "model1.add(tf.keras.layers.Dense(1, activation='sigmoid'))  # 최종 출력은 긍정/부정을 나타내는 1dim 입니다.\n",
    "\n",
    "model1.summary()"
   ]
  },
  {
   "cell_type": "markdown",
   "id": "1aef4b76",
   "metadata": {},
   "source": [
    "2. 1D CNN"
   ]
  },
  {
   "cell_type": "code",
   "execution_count": 41,
   "id": "0ed4a088",
   "metadata": {},
   "outputs": [
    {
     "name": "stdout",
     "output_type": "stream",
     "text": [
      "Model: \"sequential_1\"\n",
      "_________________________________________________________________\n",
      "Layer (type)                 Output Shape              Param #   \n",
      "=================================================================\n",
      "embedding_1 (Embedding)      (None, None, 16)          160000    \n",
      "_________________________________________________________________\n",
      "conv1d (Conv1D)              (None, None, 16)          1808      \n",
      "_________________________________________________________________\n",
      "max_pooling1d (MaxPooling1D) (None, None, 16)          0         \n",
      "_________________________________________________________________\n",
      "conv1d_1 (Conv1D)            (None, None, 16)          1808      \n",
      "_________________________________________________________________\n",
      "global_max_pooling1d (Global (None, 16)                0         \n",
      "_________________________________________________________________\n",
      "dense_2 (Dense)              (None, 8)                 136       \n",
      "_________________________________________________________________\n",
      "dense_3 (Dense)              (None, 1)                 9         \n",
      "=================================================================\n",
      "Total params: 163,761\n",
      "Trainable params: 163,761\n",
      "Non-trainable params: 0\n",
      "_________________________________________________________________\n"
     ]
    }
   ],
   "source": [
    "model2 = tf.keras.Sequential()\n",
    "model2.add(tf.keras.layers.Embedding(vocab_size, word_vector_dim, input_shape=(None,)))\n",
    "model2.add(tf.keras.layers.Conv1D(16, 7, activation='relu'))\n",
    "model2.add(tf.keras.layers.MaxPooling1D(5))\n",
    "model2.add(tf.keras.layers.Conv1D(16, 7, activation='relu'))\n",
    "model2.add(tf.keras.layers.GlobalMaxPooling1D())\n",
    "model2.add(tf.keras.layers.Dense(8, activation='relu'))\n",
    "model2.add(tf.keras.layers.Dense(1, activation='sigmoid'))  # 최종 출력은 긍정/부정을 나타내는 1dim 입니다.\n",
    "\n",
    "model2.summary()"
   ]
  },
  {
   "cell_type": "markdown",
   "id": "dbb3b2b1",
   "metadata": {},
   "source": [
    "3. GlobalMaxPooling"
   ]
  },
  {
   "cell_type": "code",
   "execution_count": 42,
   "id": "8ba5a8db",
   "metadata": {},
   "outputs": [
    {
     "name": "stdout",
     "output_type": "stream",
     "text": [
      "Model: \"sequential_2\"\n",
      "_________________________________________________________________\n",
      "Layer (type)                 Output Shape              Param #   \n",
      "=================================================================\n",
      "embedding_2 (Embedding)      (None, None, 16)          160000    \n",
      "_________________________________________________________________\n",
      "global_max_pooling1d_1 (Glob (None, 16)                0         \n",
      "_________________________________________________________________\n",
      "dense_4 (Dense)              (None, 8)                 136       \n",
      "_________________________________________________________________\n",
      "dense_5 (Dense)              (None, 1)                 9         \n",
      "=================================================================\n",
      "Total params: 160,145\n",
      "Trainable params: 160,145\n",
      "Non-trainable params: 0\n",
      "_________________________________________________________________\n"
     ]
    }
   ],
   "source": [
    "model3 = tf.keras.Sequential()\n",
    "model3.add(tf.keras.layers.Embedding(vocab_size, word_vector_dim, input_shape=(None,)))\n",
    "model3.add(tf.keras.layers.GlobalMaxPooling1D())\n",
    "model3.add(tf.keras.layers.Dense(8, activation='relu'))\n",
    "model3.add(tf.keras.layers.Dense(1, activation='sigmoid'))  # 최종 출력은 긍정/부정을 나타내는 1dim 입니다.\n",
    "\n",
    "model3.summary()"
   ]
  },
  {
   "cell_type": "markdown",
   "id": "1bd656fb",
   "metadata": {},
   "source": [
    "# 5. 모델 훈련 개시"
   ]
  },
  {
   "cell_type": "code",
   "execution_count": 45,
   "id": "2be5ca26",
   "metadata": {},
   "outputs": [
    {
     "name": "stdout",
     "output_type": "stream",
     "text": [
      "(136182, 50)\n",
      "(136182,)\n"
     ]
    }
   ],
   "source": [
    "# validation set 10000건 분리\n",
    "x_val = X_train[:10000]   \n",
    "y_val = y_train[:10000]\n",
    "\n",
    "# validation set을 제외한 나머지 15000건\n",
    "partial_X_train = X_train[10000:]  \n",
    "partial_y_train = y_train[10000:]\n",
    "\n",
    "print(partial_X_train.shape)\n",
    "print(partial_y_train.shape)"
   ]
  },
  {
   "cell_type": "code",
   "execution_count": 48,
   "id": "e0e10104",
   "metadata": {},
   "outputs": [
    {
     "name": "stdout",
     "output_type": "stream",
     "text": [
      "Epoch 1/20\n",
      "266/266 [==============================] - 35s 7ms/step - loss: 0.4825 - accuracy: 0.7862 - val_loss: 0.3520 - val_accuracy: 0.8475\n",
      "Epoch 2/20\n",
      "266/266 [==============================] - 1s 5ms/step - loss: 0.3348 - accuracy: 0.8586 - val_loss: 0.3412 - val_accuracy: 0.8527\n",
      "Epoch 3/20\n",
      "266/266 [==============================] - 1s 5ms/step - loss: 0.3136 - accuracy: 0.8689 - val_loss: 0.3395 - val_accuracy: 0.8562\n",
      "Epoch 4/20\n",
      "266/266 [==============================] - 1s 5ms/step - loss: 0.3017 - accuracy: 0.8740 - val_loss: 0.3419 - val_accuracy: 0.8536\n",
      "Epoch 5/20\n",
      "266/266 [==============================] - 1s 5ms/step - loss: 0.2905 - accuracy: 0.8794 - val_loss: 0.3470 - val_accuracy: 0.8524\n",
      "Epoch 6/20\n",
      "266/266 [==============================] - 1s 5ms/step - loss: 0.2791 - accuracy: 0.8855 - val_loss: 0.3487 - val_accuracy: 0.8532\n",
      "Epoch 7/20\n",
      "266/266 [==============================] - 1s 5ms/step - loss: 0.2698 - accuracy: 0.8910 - val_loss: 0.3542 - val_accuracy: 0.8539\n",
      "Epoch 8/20\n",
      "266/266 [==============================] - 1s 5ms/step - loss: 0.2607 - accuracy: 0.8953 - val_loss: 0.3551 - val_accuracy: 0.8525\n",
      "Epoch 9/20\n",
      "266/266 [==============================] - 1s 5ms/step - loss: 0.2514 - accuracy: 0.9003 - val_loss: 0.3648 - val_accuracy: 0.8499\n",
      "Epoch 10/20\n",
      "266/266 [==============================] - 1s 5ms/step - loss: 0.2418 - accuracy: 0.9042 - val_loss: 0.3687 - val_accuracy: 0.8484\n",
      "Epoch 11/20\n",
      "266/266 [==============================] - 1s 5ms/step - loss: 0.2324 - accuracy: 0.9084 - val_loss: 0.3736 - val_accuracy: 0.8517\n",
      "Epoch 12/20\n",
      "266/266 [==============================] - 1s 5ms/step - loss: 0.2225 - accuracy: 0.9120 - val_loss: 0.3893 - val_accuracy: 0.8475\n",
      "Epoch 13/20\n",
      "266/266 [==============================] - 1s 5ms/step - loss: 0.2136 - accuracy: 0.9162 - val_loss: 0.3939 - val_accuracy: 0.8498\n",
      "Epoch 14/20\n",
      "266/266 [==============================] - 1s 5ms/step - loss: 0.2051 - accuracy: 0.9197 - val_loss: 0.4116 - val_accuracy: 0.8498\n",
      "Epoch 15/20\n",
      "266/266 [==============================] - 1s 5ms/step - loss: 0.1959 - accuracy: 0.9240 - val_loss: 0.4288 - val_accuracy: 0.8470\n",
      "Epoch 16/20\n",
      "266/266 [==============================] - 1s 5ms/step - loss: 0.1876 - accuracy: 0.9274 - val_loss: 0.4296 - val_accuracy: 0.8495\n",
      "Epoch 17/20\n",
      "266/266 [==============================] - 1s 5ms/step - loss: 0.1792 - accuracy: 0.9308 - val_loss: 0.4627 - val_accuracy: 0.8465\n",
      "Epoch 18/20\n",
      "266/266 [==============================] - 1s 5ms/step - loss: 0.1729 - accuracy: 0.9338 - val_loss: 0.4727 - val_accuracy: 0.8444\n",
      "Epoch 19/20\n",
      "266/266 [==============================] - 1s 5ms/step - loss: 0.1666 - accuracy: 0.9360 - val_loss: 0.4848 - val_accuracy: 0.8438\n",
      "Epoch 20/20\n",
      "266/266 [==============================] - 1s 5ms/step - loss: 0.1594 - accuracy: 0.9394 - val_loss: 0.4832 - val_accuracy: 0.8445\n"
     ]
    }
   ],
   "source": [
    "model1.compile(optimizer='adam',\n",
    "              loss='binary_crossentropy',\n",
    "              metrics=['accuracy'])\n",
    "              \n",
    "epochs=20  # 몇 epoch를 훈련하면 좋을지 결과를 보면서 바꾸어 봅시다. \n",
    "\n",
    "history = model1.fit(partial_X_train,\n",
    "                    partial_y_train,\n",
    "                    epochs=epochs,\n",
    "                    batch_size=512,\n",
    "                    validation_data=(x_val, y_val),\n",
    "                    verbose=1)"
   ]
  },
  {
   "cell_type": "code",
   "execution_count": 49,
   "id": "1b6ff754",
   "metadata": {},
   "outputs": [
    {
     "name": "stdout",
     "output_type": "stream",
     "text": [
      "Epoch 1/20\n",
      "266/266 [==============================] - 21s 6ms/step - loss: 0.5574 - accuracy: 0.6960 - val_loss: 0.4612 - val_accuracy: 0.7686\n",
      "Epoch 2/20\n",
      "266/266 [==============================] - 1s 5ms/step - loss: 0.4359 - accuracy: 0.7850 - val_loss: 0.4575 - val_accuracy: 0.7648\n",
      "Epoch 3/20\n",
      "266/266 [==============================] - 1s 5ms/step - loss: 0.4066 - accuracy: 0.8008 - val_loss: 0.4525 - val_accuracy: 0.7692\n",
      "Epoch 4/20\n",
      "266/266 [==============================] - 1s 5ms/step - loss: 0.3792 - accuracy: 0.8164 - val_loss: 0.4585 - val_accuracy: 0.7715\n",
      "Epoch 5/20\n",
      "266/266 [==============================] - 1s 5ms/step - loss: 0.3517 - accuracy: 0.8316 - val_loss: 0.4724 - val_accuracy: 0.7685\n",
      "Epoch 6/20\n",
      "266/266 [==============================] - 1s 5ms/step - loss: 0.3213 - accuracy: 0.8479 - val_loss: 0.4965 - val_accuracy: 0.7667\n",
      "Epoch 7/20\n",
      "266/266 [==============================] - 1s 5ms/step - loss: 0.2912 - accuracy: 0.8628 - val_loss: 0.5272 - val_accuracy: 0.7625\n",
      "Epoch 8/20\n",
      "266/266 [==============================] - 1s 5ms/step - loss: 0.2639 - accuracy: 0.8761 - val_loss: 0.5662 - val_accuracy: 0.7598\n",
      "Epoch 9/20\n",
      "266/266 [==============================] - 1s 5ms/step - loss: 0.2399 - accuracy: 0.8858 - val_loss: 0.6201 - val_accuracy: 0.7557\n",
      "Epoch 10/20\n",
      "266/266 [==============================] - 1s 5ms/step - loss: 0.2199 - accuracy: 0.8940 - val_loss: 0.6694 - val_accuracy: 0.7504\n",
      "Epoch 11/20\n",
      "266/266 [==============================] - 1s 5ms/step - loss: 0.2057 - accuracy: 0.8994 - val_loss: 0.7154 - val_accuracy: 0.7533\n",
      "Epoch 12/20\n",
      "266/266 [==============================] - 1s 5ms/step - loss: 0.1920 - accuracy: 0.9061 - val_loss: 0.7685 - val_accuracy: 0.7551\n",
      "Epoch 13/20\n",
      "266/266 [==============================] - 1s 5ms/step - loss: 0.1829 - accuracy: 0.9090 - val_loss: 0.8281 - val_accuracy: 0.7460\n",
      "Epoch 14/20\n",
      "266/266 [==============================] - 1s 5ms/step - loss: 0.1743 - accuracy: 0.9125 - val_loss: 0.8874 - val_accuracy: 0.7417\n",
      "Epoch 15/20\n",
      "266/266 [==============================] - 1s 5ms/step - loss: 0.1674 - accuracy: 0.9148 - val_loss: 0.9396 - val_accuracy: 0.7411\n",
      "Epoch 16/20\n",
      "266/266 [==============================] - 1s 5ms/step - loss: 0.1623 - accuracy: 0.9170 - val_loss: 0.9847 - val_accuracy: 0.7425\n",
      "Epoch 17/20\n",
      "266/266 [==============================] - 1s 5ms/step - loss: 0.1578 - accuracy: 0.9186 - val_loss: 1.0203 - val_accuracy: 0.7446\n",
      "Epoch 18/20\n",
      "266/266 [==============================] - 1s 5ms/step - loss: 0.1544 - accuracy: 0.9195 - val_loss: 1.1063 - val_accuracy: 0.7396\n",
      "Epoch 19/20\n",
      "266/266 [==============================] - 1s 5ms/step - loss: 0.1512 - accuracy: 0.9206 - val_loss: 1.1319 - val_accuracy: 0.7425\n",
      "Epoch 20/20\n",
      "266/266 [==============================] - 1s 5ms/step - loss: 0.1472 - accuracy: 0.9222 - val_loss: 1.1743 - val_accuracy: 0.7435\n"
     ]
    }
   ],
   "source": [
    "#모델 2 훈련\n",
    "model2.compile(optimizer='adam',\n",
    "              loss='binary_crossentropy',\n",
    "              metrics=['accuracy'])\n",
    "              \n",
    "epochs=20  # 몇 epoch를 훈련하면 좋을지 결과를 보면서 바꾸어 봅시다. \n",
    "\n",
    "history2 = model2.fit(partial_X_train,\n",
    "                    partial_y_train,\n",
    "                    epochs=epochs,\n",
    "                    batch_size=512,\n",
    "                    validation_data=(x_val, y_val),\n",
    "                    verbose=1)"
   ]
  },
  {
   "cell_type": "code",
   "execution_count": 50,
   "id": "643a3035",
   "metadata": {
    "scrolled": true
   },
   "outputs": [
    {
     "name": "stdout",
     "output_type": "stream",
     "text": [
      "Epoch 1/20\n",
      "266/266 [==============================] - 1s 4ms/step - loss: 0.5668 - accuracy: 0.7761 - val_loss: 0.4048 - val_accuracy: 0.8275\n",
      "Epoch 2/20\n",
      "266/266 [==============================] - 1s 3ms/step - loss: 0.3639 - accuracy: 0.8446 - val_loss: 0.3493 - val_accuracy: 0.8456\n",
      "Epoch 3/20\n",
      "266/266 [==============================] - 1s 3ms/step - loss: 0.3186 - accuracy: 0.8657 - val_loss: 0.3399 - val_accuracy: 0.8516\n",
      "Epoch 4/20\n",
      "266/266 [==============================] - 1s 3ms/step - loss: 0.2928 - accuracy: 0.8785 - val_loss: 0.3404 - val_accuracy: 0.8498\n",
      "Epoch 5/20\n",
      "266/266 [==============================] - 1s 3ms/step - loss: 0.2730 - accuracy: 0.8888 - val_loss: 0.3448 - val_accuracy: 0.8507\n",
      "Epoch 6/20\n",
      "266/266 [==============================] - 1s 3ms/step - loss: 0.2569 - accuracy: 0.8962 - val_loss: 0.3521 - val_accuracy: 0.8495\n",
      "Epoch 7/20\n",
      "266/266 [==============================] - 1s 3ms/step - loss: 0.2429 - accuracy: 0.9030 - val_loss: 0.3596 - val_accuracy: 0.8501\n",
      "Epoch 8/20\n",
      "266/266 [==============================] - 1s 3ms/step - loss: 0.2305 - accuracy: 0.9092 - val_loss: 0.3699 - val_accuracy: 0.8454\n",
      "Epoch 9/20\n",
      "266/266 [==============================] - 1s 3ms/step - loss: 0.2193 - accuracy: 0.9150 - val_loss: 0.3803 - val_accuracy: 0.8451\n",
      "Epoch 10/20\n",
      "266/266 [==============================] - 1s 3ms/step - loss: 0.2093 - accuracy: 0.9193 - val_loss: 0.3908 - val_accuracy: 0.8440\n",
      "Epoch 11/20\n",
      "266/266 [==============================] - 1s 3ms/step - loss: 0.2004 - accuracy: 0.9238 - val_loss: 0.4026 - val_accuracy: 0.8423\n",
      "Epoch 12/20\n",
      "266/266 [==============================] - 1s 3ms/step - loss: 0.1919 - accuracy: 0.9285 - val_loss: 0.4146 - val_accuracy: 0.8411\n",
      "Epoch 13/20\n",
      "266/266 [==============================] - 1s 3ms/step - loss: 0.1839 - accuracy: 0.9316 - val_loss: 0.4277 - val_accuracy: 0.8398\n",
      "Epoch 14/20\n",
      "266/266 [==============================] - 1s 3ms/step - loss: 0.1768 - accuracy: 0.9349 - val_loss: 0.4405 - val_accuracy: 0.8394\n",
      "Epoch 15/20\n",
      "266/266 [==============================] - 1s 3ms/step - loss: 0.1704 - accuracy: 0.9381 - val_loss: 0.4514 - val_accuracy: 0.8356\n",
      "Epoch 16/20\n",
      "266/266 [==============================] - 1s 3ms/step - loss: 0.1644 - accuracy: 0.9406 - val_loss: 0.4647 - val_accuracy: 0.8350\n",
      "Epoch 17/20\n",
      "266/266 [==============================] - 1s 3ms/step - loss: 0.1589 - accuracy: 0.9437 - val_loss: 0.4800 - val_accuracy: 0.8324\n",
      "Epoch 18/20\n",
      "266/266 [==============================] - 1s 3ms/step - loss: 0.1540 - accuracy: 0.9453 - val_loss: 0.4905 - val_accuracy: 0.8308\n",
      "Epoch 19/20\n",
      "266/266 [==============================] - 1s 3ms/step - loss: 0.1492 - accuracy: 0.9473 - val_loss: 0.5023 - val_accuracy: 0.8303\n",
      "Epoch 20/20\n",
      "266/266 [==============================] - 1s 3ms/step - loss: 0.1445 - accuracy: 0.9492 - val_loss: 0.5170 - val_accuracy: 0.8287\n"
     ]
    }
   ],
   "source": [
    "#모델 3 훈련\n",
    "model3.compile(optimizer='adam',\n",
    "              loss='binary_crossentropy',\n",
    "              metrics=['accuracy'])\n",
    "              \n",
    "epochs=20  # 몇 epoch를 훈련하면 좋을지 결과를 보면서 바꾸어 봅시다. \n",
    "\n",
    "history3 = model3.fit(partial_X_train,\n",
    "                    partial_y_train,\n",
    "                    epochs=epochs,\n",
    "                    batch_size=512,\n",
    "                    validation_data=(x_val, y_val),\n",
    "                    verbose=1)"
   ]
  },
  {
   "cell_type": "markdown",
   "id": "eff35aee",
   "metadata": {},
   "source": [
    "# 6. Loss, Accuracy 그래프 시각화"
   ]
  },
  {
   "cell_type": "code",
   "execution_count": 53,
   "id": "d404960f",
   "metadata": {},
   "outputs": [],
   "source": [
    "# 모델 학습 및 결과 저장, 그래프 그리기 함수\n",
    "def loss_acc_graph(history_dict):\n",
    "    acc = history_dict['accuracy']\n",
    "    val_acc = history_dict['val_accuracy']\n",
    "    loss = history_dict['loss']\n",
    "    val_loss = history_dict['val_loss']\n",
    "    \n",
    "    epochs = range(1, len(acc) + 1)\n",
    "    \n",
    "    # 손실(Loss) 그래프\n",
    "    plt.plot(epochs, loss, 'bo', label='Training loss')  # \"bo\"는 \"파란색 점\"\n",
    "    plt.plot(epochs, val_loss, 'b', label='Validation loss')  # \"b\"는 \"파란 실선\"\n",
    "    plt.title('Training and validation loss')\n",
    "    plt.xlabel('Epochs')\n",
    "    plt.ylabel('Loss')\n",
    "    plt.legend()\n",
    "    plt.show()\n",
    "    \n",
    "    # 정확도(Accuracy) 그래프\n",
    "    plt.plot(epochs, acc, 'bo', label='Training accuracy')\n",
    "    plt.plot(epochs, val_acc, 'b', label='Validation accuracy')\n",
    "    plt.title('Training and validation accuracy')\n",
    "    plt.xlabel('Epochs')\n",
    "    plt.ylabel('Accuracy')\n",
    "    plt.legend()\n",
    "    plt.show()"
   ]
  },
  {
   "cell_type": "code",
   "execution_count": 55,
   "id": "a598ff72",
   "metadata": {
    "scrolled": false
   },
   "outputs": [
    {
     "name": "stdout",
     "output_type": "stream",
     "text": [
      "Epoch 1/20\n",
      "266/266 [==============================] - 1s 6ms/step - loss: 0.1533 - accuracy: 0.9426 - val_loss: 0.5284 - val_accuracy: 0.8430\n",
      "Epoch 2/20\n",
      "266/266 [==============================] - 1s 5ms/step - loss: 0.1485 - accuracy: 0.9441 - val_loss: 0.5496 - val_accuracy: 0.8468\n",
      "Epoch 3/20\n",
      "266/266 [==============================] - 1s 5ms/step - loss: 0.1432 - accuracy: 0.9465 - val_loss: 0.5645 - val_accuracy: 0.8449\n",
      "Epoch 4/20\n",
      "266/266 [==============================] - 1s 5ms/step - loss: 0.1385 - accuracy: 0.9485 - val_loss: 0.5745 - val_accuracy: 0.8437\n",
      "Epoch 5/20\n",
      "266/266 [==============================] - 1s 5ms/step - loss: 0.1339 - accuracy: 0.9503 - val_loss: 0.6068 - val_accuracy: 0.8437\n",
      "Epoch 6/20\n",
      "266/266 [==============================] - 1s 5ms/step - loss: 0.1295 - accuracy: 0.9522 - val_loss: 0.6430 - val_accuracy: 0.8331\n",
      "Epoch 7/20\n",
      "266/266 [==============================] - 1s 5ms/step - loss: 0.1288 - accuracy: 0.9520 - val_loss: 0.6400 - val_accuracy: 0.8396\n",
      "Epoch 8/20\n",
      "266/266 [==============================] - 1s 5ms/step - loss: 0.1219 - accuracy: 0.9549 - val_loss: 0.6418 - val_accuracy: 0.8417\n",
      "Epoch 9/20\n",
      "266/266 [==============================] - 1s 5ms/step - loss: 0.1184 - accuracy: 0.9566 - val_loss: 0.6652 - val_accuracy: 0.8391\n",
      "Epoch 10/20\n",
      "266/266 [==============================] - 1s 5ms/step - loss: 0.1142 - accuracy: 0.9578 - val_loss: 0.7098 - val_accuracy: 0.8384\n",
      "Epoch 11/20\n",
      "266/266 [==============================] - 1s 5ms/step - loss: 0.1112 - accuracy: 0.9587 - val_loss: 0.7172 - val_accuracy: 0.8420\n",
      "Epoch 12/20\n",
      "266/266 [==============================] - 1s 5ms/step - loss: 0.1077 - accuracy: 0.9609 - val_loss: 0.7870 - val_accuracy: 0.8420\n",
      "Epoch 13/20\n",
      "266/266 [==============================] - 1s 5ms/step - loss: 0.1082 - accuracy: 0.9602 - val_loss: 0.7562 - val_accuracy: 0.8389\n",
      "Epoch 14/20\n",
      "266/266 [==============================] - 1s 5ms/step - loss: 0.1057 - accuracy: 0.9614 - val_loss: 0.7694 - val_accuracy: 0.8390\n",
      "Epoch 15/20\n",
      "266/266 [==============================] - 1s 5ms/step - loss: 0.1026 - accuracy: 0.9626 - val_loss: 0.7864 - val_accuracy: 0.8394\n",
      "Epoch 16/20\n",
      "266/266 [==============================] - 1s 5ms/step - loss: 0.1021 - accuracy: 0.9627 - val_loss: 0.7718 - val_accuracy: 0.8346\n",
      "Epoch 17/20\n",
      "266/266 [==============================] - 1s 5ms/step - loss: 0.0955 - accuracy: 0.9648 - val_loss: 0.8191 - val_accuracy: 0.8375\n",
      "Epoch 18/20\n",
      "266/266 [==============================] - 1s 5ms/step - loss: 0.0960 - accuracy: 0.9647 - val_loss: 0.8479 - val_accuracy: 0.8338\n",
      "Epoch 19/20\n",
      "266/266 [==============================] - 1s 5ms/step - loss: 0.0952 - accuracy: 0.9650 - val_loss: 0.8490 - val_accuracy: 0.8372\n",
      "Epoch 20/20\n",
      "266/266 [==============================] - 1s 5ms/step - loss: 0.0914 - accuracy: 0.9665 - val_loss: 0.8315 - val_accuracy: 0.8395\n",
      "1537/1537 - 3s - loss: 0.8744 - accuracy: 0.8283\n",
      "Model 1 Results: [0.874371349811554, 0.8283255696296692]\n"
     ]
    },
    {
     "data": {
      "image/png": "[encoded data removed]",
      "text/plain": [
       "<Figure size 432x288 with 1 Axes>"
      ]
     },
     "metadata": {
      "needs_background": "light"
     },
     "output_type": "display_data"
    },
    {
     "data": {
      "image/png": "[encoded data removed]",
      "text/plain": [
       "<Figure size 432x288 with 1 Axes>"
      ]
     },
     "metadata": {
      "needs_background": "light"
     },
     "output_type": "display_data"
    },
    {
     "name": "stdout",
     "output_type": "stream",
     "text": [
      "Epoch 1/20\n",
      "266/266 [==============================] - 1s 5ms/step - loss: 0.1448 - accuracy: 0.9241 - val_loss: 1.2014 - val_accuracy: 0.7365\n",
      "Epoch 2/20\n",
      "266/266 [==============================] - 1s 5ms/step - loss: 0.1435 - accuracy: 0.9233 - val_loss: 1.2230 - val_accuracy: 0.7416\n",
      "Epoch 3/20\n",
      "266/266 [==============================] - 1s 5ms/step - loss: 0.1420 - accuracy: 0.9244 - val_loss: 1.3135 - val_accuracy: 0.7363\n",
      "Epoch 4/20\n",
      "266/266 [==============================] - 1s 5ms/step - loss: 0.1396 - accuracy: 0.9247 - val_loss: 1.3156 - val_accuracy: 0.7390\n",
      "Epoch 5/20\n",
      "266/266 [==============================] - 1s 5ms/step - loss: 0.1382 - accuracy: 0.9254 - val_loss: 1.3552 - val_accuracy: 0.7319\n",
      "Epoch 6/20\n",
      "266/266 [==============================] - 1s 5ms/step - loss: 0.1362 - accuracy: 0.9259 - val_loss: 1.4021 - val_accuracy: 0.7412\n",
      "Epoch 7/20\n",
      "266/266 [==============================] - 1s 5ms/step - loss: 0.1352 - accuracy: 0.9269 - val_loss: 1.4480 - val_accuracy: 0.7360\n",
      "Epoch 8/20\n",
      "266/266 [==============================] - 1s 5ms/step - loss: 0.1334 - accuracy: 0.9275 - val_loss: 1.4350 - val_accuracy: 0.7417\n",
      "Epoch 9/20\n",
      "266/266 [==============================] - 1s 5ms/step - loss: 0.1337 - accuracy: 0.9269 - val_loss: 1.4730 - val_accuracy: 0.7399\n",
      "Epoch 10/20\n",
      "266/266 [==============================] - 1s 5ms/step - loss: 0.1319 - accuracy: 0.9281 - val_loss: 1.5570 - val_accuracy: 0.7366\n",
      "Epoch 11/20\n",
      "266/266 [==============================] - 1s 5ms/step - loss: 0.1309 - accuracy: 0.9286 - val_loss: 1.5278 - val_accuracy: 0.7365\n",
      "Epoch 12/20\n",
      "266/266 [==============================] - 1s 5ms/step - loss: 0.1290 - accuracy: 0.9291 - val_loss: 1.5888 - val_accuracy: 0.7306\n",
      "Epoch 13/20\n",
      "266/266 [==============================] - 1s 5ms/step - loss: 0.1279 - accuracy: 0.9288 - val_loss: 1.5868 - val_accuracy: 0.7329\n",
      "Epoch 14/20\n",
      "266/266 [==============================] - 1s 5ms/step - loss: 0.1274 - accuracy: 0.9294 - val_loss: 1.6256 - val_accuracy: 0.7289\n",
      "Epoch 15/20\n",
      "266/266 [==============================] - 1s 5ms/step - loss: 0.1273 - accuracy: 0.9291 - val_loss: 1.6481 - val_accuracy: 0.7351\n",
      "Epoch 16/20\n",
      "266/266 [==============================] - 1s 5ms/step - loss: 0.1270 - accuracy: 0.9299 - val_loss: 1.6451 - val_accuracy: 0.7351\n",
      "Epoch 17/20\n",
      "266/266 [==============================] - 1s 5ms/step - loss: 0.1273 - accuracy: 0.9293 - val_loss: 1.6985 - val_accuracy: 0.7368\n",
      "Epoch 18/20\n",
      "266/266 [==============================] - 1s 5ms/step - loss: 0.1264 - accuracy: 0.9297 - val_loss: 1.7457 - val_accuracy: 0.7380\n",
      "Epoch 19/20\n",
      "266/266 [==============================] - 1s 5ms/step - loss: 0.1256 - accuracy: 0.9298 - val_loss: 1.7734 - val_accuracy: 0.7312\n",
      "Epoch 20/20\n",
      "266/266 [==============================] - 1s 5ms/step - loss: 0.1254 - accuracy: 0.9303 - val_loss: 1.7624 - val_accuracy: 0.7352\n",
      "1537/1537 - 3s - loss: 1.8111 - accuracy: 0.7308\n",
      "Model 2 Results: [1.8111486434936523, 0.7307809591293335]\n"
     ]
    },
    {
     "data": {
      "image/png": "[encoded data removed]",
      "text/plain": [
       "<Figure size 432x288 with 1 Axes>"
      ]
     },
     "metadata": {
      "needs_background": "light"
     },
     "output_type": "display_data"
    },
    {
     "data": {
      "image/png": "[encoded data removed]",
      "text/plain": [
       "<Figure size 432x288 with 1 Axes>"
      ]
     },
     "metadata": {
      "needs_background": "light"
     },
     "output_type": "display_data"
    },
    {
     "name": "stdout",
     "output_type": "stream",
     "text": [
      "Epoch 1/20\n",
      "266/266 [==============================] - 1s 3ms/step - loss: 0.1405 - accuracy: 0.9514 - val_loss: 0.5279 - val_accuracy: 0.8288\n",
      "Epoch 2/20\n",
      "266/266 [==============================] - 1s 3ms/step - loss: 0.1367 - accuracy: 0.9525 - val_loss: 0.5425 - val_accuracy: 0.8265\n",
      "Epoch 3/20\n",
      "266/266 [==============================] - 1s 3ms/step - loss: 0.1332 - accuracy: 0.9545 - val_loss: 0.5542 - val_accuracy: 0.8262\n",
      "Epoch 4/20\n",
      "266/266 [==============================] - 1s 3ms/step - loss: 0.1294 - accuracy: 0.9561 - val_loss: 0.5666 - val_accuracy: 0.8238\n",
      "Epoch 5/20\n",
      "266/266 [==============================] - 1s 3ms/step - loss: 0.1262 - accuracy: 0.9573 - val_loss: 0.5759 - val_accuracy: 0.8234\n",
      "Epoch 6/20\n",
      "266/266 [==============================] - 1s 3ms/step - loss: 0.1229 - accuracy: 0.9584 - val_loss: 0.5920 - val_accuracy: 0.8234\n",
      "Epoch 7/20\n",
      "266/266 [==============================] - 1s 3ms/step - loss: 0.1204 - accuracy: 0.9597 - val_loss: 0.6031 - val_accuracy: 0.8230\n",
      "Epoch 8/20\n",
      "266/266 [==============================] - 1s 3ms/step - loss: 0.1174 - accuracy: 0.9607 - val_loss: 0.6147 - val_accuracy: 0.8224\n",
      "Epoch 9/20\n",
      "266/266 [==============================] - 1s 3ms/step - loss: 0.1150 - accuracy: 0.9619 - val_loss: 0.6253 - val_accuracy: 0.8201\n",
      "Epoch 10/20\n",
      "266/266 [==============================] - 1s 3ms/step - loss: 0.1124 - accuracy: 0.9627 - val_loss: 0.6353 - val_accuracy: 0.8207\n",
      "Epoch 11/20\n",
      "266/266 [==============================] - 1s 3ms/step - loss: 0.1100 - accuracy: 0.9644 - val_loss: 0.6534 - val_accuracy: 0.8223\n",
      "Epoch 12/20\n",
      "266/266 [==============================] - 1s 3ms/step - loss: 0.1077 - accuracy: 0.9651 - val_loss: 0.6627 - val_accuracy: 0.8190\n",
      "Epoch 13/20\n",
      "266/266 [==============================] - 1s 3ms/step - loss: 0.1055 - accuracy: 0.9657 - val_loss: 0.6683 - val_accuracy: 0.8190\n",
      "Epoch 14/20\n",
      "266/266 [==============================] - 1s 3ms/step - loss: 0.1038 - accuracy: 0.9665 - val_loss: 0.6865 - val_accuracy: 0.8185\n",
      "Epoch 15/20\n",
      "266/266 [==============================] - 1s 3ms/step - loss: 0.1018 - accuracy: 0.9675 - val_loss: 0.7022 - val_accuracy: 0.8166\n",
      "Epoch 16/20\n",
      "266/266 [==============================] - 1s 3ms/step - loss: 0.0999 - accuracy: 0.9679 - val_loss: 0.7056 - val_accuracy: 0.8154\n",
      "Epoch 17/20\n",
      "266/266 [==============================] - 1s 3ms/step - loss: 0.0981 - accuracy: 0.9690 - val_loss: 0.7248 - val_accuracy: 0.8163\n",
      "Epoch 18/20\n",
      "266/266 [==============================] - 1s 3ms/step - loss: 0.0965 - accuracy: 0.9693 - val_loss: 0.7363 - val_accuracy: 0.8138\n",
      "Epoch 19/20\n",
      "266/266 [==============================] - 1s 3ms/step - loss: 0.0951 - accuracy: 0.9696 - val_loss: 0.7479 - val_accuracy: 0.8147\n",
      "Epoch 20/20\n",
      "266/266 [==============================] - 1s 3ms/step - loss: 0.0935 - accuracy: 0.9707 - val_loss: 0.7553 - val_accuracy: 0.8136\n",
      "1537/1537 - 2s - loss: 0.7507 - accuracy: 0.8150\n",
      "Model 3 Results: [0.7506908774375916, 0.815021276473999]\n"
     ]
    },
    {
     "data": {
      "image/png": "[encoded data removed]",
      "text/plain": [
       "<Figure size 432x288 with 1 Axes>"
      ]
     },
     "metadata": {
      "needs_background": "light"
     },
     "output_type": "display_data"
    },
    {
     "data": {
      "image/png": "[encoded data removed]",
      "text/plain": [
       "<Figure size 432x288 with 1 Axes>"
      ]
     },
     "metadata": {
      "needs_background": "light"
     },
     "output_type": "display_data"
    }
   ],
   "source": [
    "# 모델 학습 및 결과 출력\n",
    "history1 = model1.fit(partial_X_train, partial_y_train,\n",
    "                      epochs=epochs, batch_size=512,\n",
    "                      validation_data=(x_val, y_val), verbose=1)\n",
    "\n",
    "results1 = model1.evaluate(X_test, y_test, verbose=2)\n",
    "print('Model 1 Results:', results1)\n",
    "loss_acc_graph(history1.history)\n",
    "\n",
    "history2 = model2.fit(partial_X_train, partial_y_train,\n",
    "                      epochs=epochs, batch_size=512,\n",
    "                      validation_data=(x_val, y_val), verbose=1)\n",
    "\n",
    "results2 = model2.evaluate(X_test, y_test, verbose=2)\n",
    "print('Model 2 Results:', results2)\n",
    "loss_acc_graph(history2.history)\n",
    "\n",
    "history3 = model3.fit(partial_X_train, partial_y_train,\n",
    "                      epochs=epochs, batch_size=512,\n",
    "                      validation_data=(x_val, y_val), verbose=1)\n",
    "\n",
    "results3 = model3.evaluate(X_test, y_test, verbose=2)\n",
    "print('Model 3 Results:', results3)\n",
    "loss_acc_graph(history3.history)"
   ]
  },
  {
   "cell_type": "markdown",
   "id": "087ec1f2",
   "metadata": {},
   "source": [
    "# 7. 학습된 Embedding 레이어 분석"
   ]
  },
  {
   "cell_type": "markdown",
   "id": "f210d56e",
   "metadata": {},
   "source": [
    " 모델이 훈련 데이터에 과적합됨"
   ]
  },
  {
   "cell_type": "markdown",
   "id": "e04d493d",
   "metadata": {},
   "source": [
    "# 8. 한국어 Word2Vec 임베딩 활용하여 성능 개선"
   ]
  },
  {
   "cell_type": "code",
   "execution_count": 59,
   "id": "0a90d255",
   "metadata": {},
   "outputs": [],
   "source": [
    "from gensim.models.keyedvectors import Word2VecKeyedVectors\n",
    "\n",
    "# 경로를 절대 경로로 변환\n",
    "word2vec_file_path = os.path.expanduser('~/data/word2vec_ko.model')\n",
    "\n",
    "# 모델 로드\n",
    "word2vec = Word2VecKeyedVectors.load(word2vec_file_path)"
   ]
  },
  {
   "cell_type": "code",
   "execution_count": 60,
   "id": "2a3be651",
   "metadata": {},
   "outputs": [],
   "source": [
    "# 예시 변수들\n",
    "vocab_size = 10000  # 단어 집합 크기\n",
    "word_vector_dim = 100  # 워드 벡터 차원\n",
    "\n",
    "# 무작위로 초기화된 embedding_matrix\n",
    "embedding_matrix = np.random.rand(vocab_size, word_vector_dim)\n",
    "\n",
    "# index_to_word와 word_vectors.wv를 사용해 embedding_matrix를 채우는 코드\n",
    "for i in range(4, vocab_size):  # 만약 0번이 패딩이라면 1부터 시작\n",
    "    word = index_to_word[i]  # index_to_word가 단어 집합일 것으로 가정\n",
    "    if word in word2vec.wv:\n",
    "        embedding_matrix[i] = word2vec.wv[word]\n",
    "    else:\n",
    "        # word2vec에 없는 단어는 랜덤 벡터 유지 또는 무시\n",
    "        continue"
   ]
  },
  {
   "cell_type": "code",
   "execution_count": 63,
   "id": "a883b1cb",
   "metadata": {},
   "outputs": [],
   "source": [
    "from tensorflow.keras.layers import Embedding, Dense, LSTM, GRU, Bidirectional\n",
    "from tensorflow.keras.models import Sequential\n",
    "\n",
    "# Word2Vec 임베딩을 적용한 embedding_matrix 사용 예시\n",
    "# vocab_size와 word_vector_dim은 이미 정의된 상태\n",
    "\n",
    "# 모델을 생성하는 함수 정의 (모델 1, 2, 3에 동일하게 적용)\n",
    "def create_model1(vocab_size, word_vector_dim, embedding_matrix):\n",
    "    model = Sequential()\n",
    "    model.add(Embedding(input_dim=vocab_size, \n",
    "                        output_dim=word_vector_dim, \n",
    "                        weights=[embedding_matrix], \n",
    "                        input_length=max_len, \n",
    "                        trainable=False))  # 임베딩 훈련하지 않음\n",
    "    model.add(LSTM(128))  # 예시로 LSTM 레이어 사용\n",
    "    model.add(Dense(1, activation='sigmoid'))\n",
    "    return model\n",
    "\n",
    "def create_model2(vocab_size, word_vector_dim, embedding_matrix):\n",
    "    model = Sequential()\n",
    "    model.add(Embedding(input_dim=vocab_size, \n",
    "                        output_dim=word_vector_dim, \n",
    "                        weights=[embedding_matrix], \n",
    "                        input_length=max_len, \n",
    "                        trainable=False))\n",
    "    model.add(GRU(128))  # GRU 사용\n",
    "    model.add(Dense(1, activation='sigmoid'))\n",
    "    return model\n",
    "\n",
    "def create_model3(vocab_size, word_vector_dim, embedding_matrix):\n",
    "    model = Sequential()\n",
    "    model.add(Embedding(input_dim=vocab_size, \n",
    "                        output_dim=word_vector_dim, \n",
    "                        weights=[embedding_matrix], \n",
    "                        input_length=max_len, \n",
    "                        trainable=False))\n",
    "    model.add(Bidirectional(LSTM(128)))  # 양방향 LSTM 사용\n",
    "    model.add(Dense(1, activation='sigmoid'))\n",
    "    return model"
   ]
  },
  {
   "cell_type": "code",
   "execution_count": 64,
   "id": "ed25a78d",
   "metadata": {
    "scrolled": true
   },
   "outputs": [
    {
     "name": "stdout",
     "output_type": "stream",
     "text": [
      "Epoch 1/20\n",
      "266/266 [==============================] - 4s 11ms/step - loss: 0.4898 - accuracy: 0.7586 - val_loss: 0.4134 - val_accuracy: 0.8154\n",
      "Epoch 2/20\n",
      "266/266 [==============================] - 3s 10ms/step - loss: 0.3926 - accuracy: 0.8214 - val_loss: 0.3791 - val_accuracy: 0.8298\n",
      "Epoch 3/20\n",
      "266/266 [==============================] - 3s 10ms/step - loss: 0.3554 - accuracy: 0.8420 - val_loss: 0.3684 - val_accuracy: 0.8316\n",
      "Epoch 4/20\n",
      "266/266 [==============================] - 3s 10ms/step - loss: 0.3288 - accuracy: 0.8552 - val_loss: 0.3545 - val_accuracy: 0.8394\n",
      "Epoch 5/20\n",
      "266/266 [==============================] - 3s 10ms/step - loss: 0.3082 - accuracy: 0.8652 - val_loss: 0.3622 - val_accuracy: 0.8411\n",
      "Epoch 6/20\n",
      "266/266 [==============================] - 3s 10ms/step - loss: 0.2888 - accuracy: 0.8747 - val_loss: 0.3702 - val_accuracy: 0.8393\n",
      "Epoch 7/20\n",
      "266/266 [==============================] - 3s 10ms/step - loss: 0.2726 - accuracy: 0.8829 - val_loss: 0.3572 - val_accuracy: 0.8446\n",
      "Epoch 8/20\n",
      "266/266 [==============================] - 3s 10ms/step - loss: 0.2556 - accuracy: 0.8920 - val_loss: 0.3689 - val_accuracy: 0.8420\n",
      "Epoch 9/20\n",
      "266/266 [==============================] - 3s 10ms/step - loss: 0.2407 - accuracy: 0.8983 - val_loss: 0.3638 - val_accuracy: 0.8459\n",
      "Epoch 10/20\n",
      "266/266 [==============================] - 3s 10ms/step - loss: 0.2219 - accuracy: 0.9087 - val_loss: 0.3786 - val_accuracy: 0.8420\n",
      "Epoch 11/20\n",
      "266/266 [==============================] - 3s 10ms/step - loss: 0.2092 - accuracy: 0.9144 - val_loss: 0.3873 - val_accuracy: 0.8426\n",
      "Epoch 12/20\n",
      "266/266 [==============================] - 3s 10ms/step - loss: 0.1901 - accuracy: 0.9227 - val_loss: 0.4101 - val_accuracy: 0.8411\n",
      "Epoch 13/20\n",
      "266/266 [==============================] - 3s 10ms/step - loss: 0.1755 - accuracy: 0.9294 - val_loss: 0.4196 - val_accuracy: 0.8417\n",
      "Epoch 14/20\n",
      "266/266 [==============================] - 3s 10ms/step - loss: 0.1646 - accuracy: 0.9342 - val_loss: 0.4461 - val_accuracy: 0.8368\n",
      "Epoch 15/20\n",
      "266/266 [==============================] - 3s 10ms/step - loss: 0.1501 - accuracy: 0.9410 - val_loss: 0.4748 - val_accuracy: 0.8363\n",
      "Epoch 16/20\n",
      "266/266 [==============================] - 3s 10ms/step - loss: 0.1411 - accuracy: 0.9443 - val_loss: 0.4867 - val_accuracy: 0.8344\n",
      "Epoch 17/20\n",
      "266/266 [==============================] - 3s 10ms/step - loss: 0.1320 - accuracy: 0.9485 - val_loss: 0.5199 - val_accuracy: 0.8314\n",
      "Epoch 18/20\n",
      "266/266 [==============================] - 3s 10ms/step - loss: 0.1172 - accuracy: 0.9552 - val_loss: 0.5428 - val_accuracy: 0.8362\n",
      "Epoch 19/20\n",
      "266/266 [==============================] - 3s 10ms/step - loss: 0.1102 - accuracy: 0.9583 - val_loss: 0.5762 - val_accuracy: 0.8361\n",
      "Epoch 20/20\n",
      "266/266 [==============================] - 3s 10ms/step - loss: 0.1011 - accuracy: 0.9622 - val_loss: 0.5904 - val_accuracy: 0.8313\n",
      "Epoch 1/20\n",
      "266/266 [==============================] - 4s 10ms/step - loss: 0.4804 - accuracy: 0.7660 - val_loss: 0.4155 - val_accuracy: 0.8104\n",
      "Epoch 2/20\n",
      "266/266 [==============================] - 2s 9ms/step - loss: 0.3885 - accuracy: 0.8242 - val_loss: 0.3753 - val_accuracy: 0.8317\n",
      "Epoch 3/20\n",
      "266/266 [==============================] - 2s 9ms/step - loss: 0.3548 - accuracy: 0.8422 - val_loss: 0.3617 - val_accuracy: 0.8395\n",
      "Epoch 4/20\n",
      "266/266 [==============================] - 2s 9ms/step - loss: 0.3318 - accuracy: 0.8541 - val_loss: 0.3549 - val_accuracy: 0.8428\n",
      "Epoch 5/20\n",
      "266/266 [==============================] - 2s 9ms/step - loss: 0.3107 - accuracy: 0.8647 - val_loss: 0.3490 - val_accuracy: 0.8484\n",
      "Epoch 6/20\n",
      "266/266 [==============================] - 2s 9ms/step - loss: 0.2929 - accuracy: 0.8742 - val_loss: 0.3490 - val_accuracy: 0.8467\n",
      "Epoch 7/20\n",
      "266/266 [==============================] - 2s 9ms/step - loss: 0.2789 - accuracy: 0.8817 - val_loss: 0.3619 - val_accuracy: 0.8418\n",
      "Epoch 8/20\n",
      "266/266 [==============================] - 2s 9ms/step - loss: 0.2607 - accuracy: 0.8906 - val_loss: 0.3589 - val_accuracy: 0.8466\n",
      "Epoch 9/20\n",
      "266/266 [==============================] - 2s 9ms/step - loss: 0.2474 - accuracy: 0.8964 - val_loss: 0.3730 - val_accuracy: 0.8422\n",
      "Epoch 10/20\n",
      "266/266 [==============================] - 2s 9ms/step - loss: 0.2344 - accuracy: 0.9024 - val_loss: 0.3702 - val_accuracy: 0.8450\n",
      "Epoch 11/20\n",
      "266/266 [==============================] - 2s 9ms/step - loss: 0.2226 - accuracy: 0.9078 - val_loss: 0.3996 - val_accuracy: 0.8443\n",
      "Epoch 12/20\n",
      "266/266 [==============================] - 2s 9ms/step - loss: 0.2063 - accuracy: 0.9157 - val_loss: 0.4058 - val_accuracy: 0.8445\n",
      "Epoch 13/20\n",
      "266/266 [==============================] - 2s 9ms/step - loss: 0.1920 - accuracy: 0.9221 - val_loss: 0.4319 - val_accuracy: 0.8335\n",
      "Epoch 14/20\n",
      "266/266 [==============================] - 2s 9ms/step - loss: 0.1805 - accuracy: 0.9283 - val_loss: 0.4306 - val_accuracy: 0.8432\n",
      "Epoch 15/20\n",
      "266/266 [==============================] - 2s 9ms/step - loss: 0.1651 - accuracy: 0.9342 - val_loss: 0.4649 - val_accuracy: 0.8354\n",
      "Epoch 16/20\n",
      "266/266 [==============================] - 3s 9ms/step - loss: 0.1553 - accuracy: 0.9390 - val_loss: 0.4813 - val_accuracy: 0.8332\n",
      "Epoch 17/20\n",
      "266/266 [==============================] - 2s 9ms/step - loss: 0.1435 - accuracy: 0.9441 - val_loss: 0.4969 - val_accuracy: 0.8358\n",
      "Epoch 18/20\n",
      "266/266 [==============================] - 2s 9ms/step - loss: 0.1326 - accuracy: 0.9492 - val_loss: 0.5233 - val_accuracy: 0.8336\n",
      "Epoch 19/20\n",
      "266/266 [==============================] - 2s 9ms/step - loss: 0.1237 - accuracy: 0.9526 - val_loss: 0.5736 - val_accuracy: 0.8305\n",
      "Epoch 20/20\n",
      "266/266 [==============================] - 2s 9ms/step - loss: 0.1165 - accuracy: 0.9558 - val_loss: 0.5775 - val_accuracy: 0.8285\n",
      "Epoch 1/20\n",
      "266/266 [==============================] - 8s 23ms/step - loss: 0.4926 - accuracy: 0.7566 - val_loss: 0.4269 - val_accuracy: 0.8020\n",
      "Epoch 2/20\n",
      "266/266 [==============================] - 5s 20ms/step - loss: 0.3955 - accuracy: 0.8200 - val_loss: 0.3819 - val_accuracy: 0.8234\n",
      "Epoch 3/20\n",
      "266/266 [==============================] - 5s 20ms/step - loss: 0.3568 - accuracy: 0.8407 - val_loss: 0.3750 - val_accuracy: 0.8247\n",
      "Epoch 4/20\n",
      "266/266 [==============================] - 5s 20ms/step - loss: 0.3289 - accuracy: 0.8543 - val_loss: 0.3667 - val_accuracy: 0.8347\n",
      "Epoch 5/20\n",
      "266/266 [==============================] - 5s 20ms/step - loss: 0.3086 - accuracy: 0.8660 - val_loss: 0.3598 - val_accuracy: 0.8407\n",
      "Epoch 6/20\n",
      "266/266 [==============================] - 5s 20ms/step - loss: 0.2883 - accuracy: 0.8758 - val_loss: 0.3587 - val_accuracy: 0.8409\n",
      "Epoch 7/20\n",
      "266/266 [==============================] - 5s 20ms/step - loss: 0.2679 - accuracy: 0.8859 - val_loss: 0.3787 - val_accuracy: 0.8334\n",
      "Epoch 8/20\n",
      "266/266 [==============================] - 5s 20ms/step - loss: 0.2508 - accuracy: 0.8945 - val_loss: 0.3725 - val_accuracy: 0.8441\n",
      "Epoch 9/20\n",
      "266/266 [==============================] - 5s 20ms/step - loss: 0.2344 - accuracy: 0.9028 - val_loss: 0.3880 - val_accuracy: 0.8352\n",
      "Epoch 10/20\n",
      "266/266 [==============================] - 5s 20ms/step - loss: 0.2181 - accuracy: 0.9102 - val_loss: 0.4144 - val_accuracy: 0.8337\n",
      "Epoch 11/20\n",
      "266/266 [==============================] - 5s 20ms/step - loss: 0.2036 - accuracy: 0.9170 - val_loss: 0.4210 - val_accuracy: 0.8394\n",
      "Epoch 12/20\n",
      "266/266 [==============================] - 5s 20ms/step - loss: 0.1878 - accuracy: 0.9237 - val_loss: 0.4328 - val_accuracy: 0.8391\n",
      "Epoch 13/20\n",
      "266/266 [==============================] - 5s 20ms/step - loss: 0.1751 - accuracy: 0.9296 - val_loss: 0.4616 - val_accuracy: 0.8313\n",
      "Epoch 14/20\n",
      "266/266 [==============================] - 5s 20ms/step - loss: 0.1635 - accuracy: 0.9356 - val_loss: 0.4656 - val_accuracy: 0.8350\n",
      "Epoch 15/20\n",
      "266/266 [==============================] - 5s 20ms/step - loss: 0.1496 - accuracy: 0.9413 - val_loss: 0.4895 - val_accuracy: 0.8349\n",
      "Epoch 16/20\n",
      "266/266 [==============================] - 5s 20ms/step - loss: 0.1365 - accuracy: 0.9472 - val_loss: 0.5206 - val_accuracy: 0.8312\n",
      "Epoch 17/20\n",
      "266/266 [==============================] - 5s 20ms/step - loss: 0.1287 - accuracy: 0.9507 - val_loss: 0.5315 - val_accuracy: 0.8315\n",
      "Epoch 18/20\n",
      "266/266 [==============================] - 5s 20ms/step - loss: 0.1185 - accuracy: 0.9550 - val_loss: 0.5747 - val_accuracy: 0.8325\n",
      "Epoch 19/20\n",
      "266/266 [==============================] - 5s 20ms/step - loss: 0.1099 - accuracy: 0.9591 - val_loss: 0.5772 - val_accuracy: 0.8320\n",
      "Epoch 20/20\n",
      "266/266 [==============================] - 5s 20ms/step - loss: 0.1069 - accuracy: 0.9593 - val_loss: 0.6039 - val_accuracy: 0.8306\n"
     ]
    }
   ],
   "source": [
    "# 임베딩 매트릭스 (Word2Vec 모델에서 만든 것을 사용)\n",
    "# 모델 1, 2, 3 생성\n",
    "model1 = create_model1(vocab_size, word_vector_dim, embedding_matrix)\n",
    "model2 = create_model2(vocab_size, word_vector_dim, embedding_matrix)\n",
    "model3 = create_model3(vocab_size, word_vector_dim, embedding_matrix)\n",
    "\n",
    "# 컴파일 및 학습 절차 (모델 1)\n",
    "model1.compile(optimizer='adam', loss='binary_crossentropy', metrics=['accuracy'])\n",
    "\n",
    "history1 = model1.fit(partial_X_train,\n",
    "                      partial_y_train,\n",
    "                      epochs=20,\n",
    "                      batch_size=512,\n",
    "                      validation_data=(x_val, y_val),\n",
    "                      verbose=1)\n",
    "\n",
    "# 모델 2\n",
    "model2.compile(optimizer='adam', loss='binary_crossentropy', metrics=['accuracy'])\n",
    "\n",
    "history2 = model2.fit(partial_X_train,\n",
    "                      partial_y_train,\n",
    "                      epochs=20,\n",
    "                      batch_size=512,\n",
    "                      validation_data=(x_val, y_val),\n",
    "                      verbose=1)\n",
    "\n",
    "# 모델 3\n",
    "model3.compile(optimizer='adam', loss='binary_crossentropy', metrics=['accuracy'])\n",
    "\n",
    "history3 = model3.fit(partial_X_train,\n",
    "                      partial_y_train,\n",
    "                      epochs=20,\n",
    "                      batch_size=512,\n",
    "                      validation_data=(x_val, y_val),\n",
    "                      verbose=1)"
   ]
  },
  {
   "cell_type": "code",
   "execution_count": 65,
   "id": "ce72ce0a",
   "metadata": {},
   "outputs": [
    {
     "data": {
      "image/png": "[encoded data removed]",
      "text/plain": [
       "<Figure size 864x432 with 2 Axes>"
      ]
     },
     "metadata": {
      "needs_background": "light"
     },
     "output_type": "display_data"
    },
    {
     "data": {
      "image/png": "[encoded data removed]",
      "text/plain": [
       "<Figure size 864x432 with 2 Axes>"
      ]
     },
     "metadata": {
      "needs_background": "light"
     },
     "output_type": "display_data"
    },
    {
     "data": {
      "image/png": "[encoded data removed]",
      "text/plain": [
       "<Figure size 864x432 with 2 Axes>"
      ]
     },
     "metadata": {
      "needs_background": "light"
     },
     "output_type": "display_data"
    }
   ],
   "source": [
    "def plot_loss_acc(history, model_name):\n",
    "    # 학습 이력(history)에서 손실(loss) 및 정확도(accuracy) 데이터를 추출\n",
    "    acc = history.history['accuracy']\n",
    "    val_acc = history.history['val_accuracy']\n",
    "    loss = history.history['loss']\n",
    "    val_loss = history.history['val_loss']\n",
    "    \n",
    "    epochs = range(1, len(acc) + 1)\n",
    "    \n",
    "    # 손실(Loss) 그래프\n",
    "    plt.figure(figsize=(12, 6))\n",
    "    \n",
    "    plt.subplot(1, 2, 1)\n",
    "    plt.plot(epochs, loss, 'bo', label='Training loss')\n",
    "    plt.plot(epochs, val_loss, 'b', label='Validation loss')\n",
    "    plt.title(f'{model_name} - Training and validation loss')\n",
    "    plt.xlabel('Epochs')\n",
    "    plt.ylabel('Loss')\n",
    "    plt.legend()\n",
    "    \n",
    "    # 정확도(Accuracy) 그래프\n",
    "    plt.subplot(1, 2, 2)\n",
    "    plt.plot(epochs, acc, 'bo', label='Training accuracy')\n",
    "    plt.plot(epochs, val_acc, 'b', label='Validation accuracy')\n",
    "    plt.title(f'{model_name} - Training and validation accuracy')\n",
    "    plt.xlabel('Epochs')\n",
    "    plt.ylabel('Accuracy')\n",
    "    plt.legend()\n",
    "    \n",
    "    plt.show()\n",
    "\n",
    "# 각 모델의 학습 결과를 평가하는 그래프 출력\n",
    "plot_loss_acc(history1, \"Model 1\")\n",
    "plot_loss_acc(history2, \"Model 2\")\n",
    "plot_loss_acc(history3, \"Model 3\")"
   ]
  },
  {
   "cell_type": "markdown",
   "id": "7bd11342",
   "metadata": {},
   "source": [
    "# 회고"
   ]
  },
  {
   "cell_type": "markdown",
   "id": "5d781aff",
   "metadata": {},
   "source": [
    "과적합 문제가 발생했는데 어떻게 해야할지 모르겠음.\n",
    "올림픽 정신으로 노드 제출에 의의를 두겠음........................"
   ]
  }
 ],
 "metadata": {
  "kernelspec": {
   "display_name": "Python 3 (ipykernel)",
   "language": "python",
   "name": "python3"
  },
  "language_info": {
   "codemirror_mode": {
    "name": "ipython",
    "version": 3
   },
   "file_extension": ".py",
   "mimetype": "text/x-python",
   "name": "python",
   "nbconvert_exporter": "python",
   "pygments_lexer": "ipython3",
   "version": "3.9.7"
  }
 },
 "nbformat": 4,
 "nbformat_minor": 5
}
