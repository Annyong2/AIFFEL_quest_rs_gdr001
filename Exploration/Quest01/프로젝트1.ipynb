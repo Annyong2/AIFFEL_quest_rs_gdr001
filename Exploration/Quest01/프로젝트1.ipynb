{
 "cells": [
  {
   "cell_type": "code",
   "execution_count": 3,
   "id": "0a5e6c36",
   "metadata": {
    "scrolled": true
   },
   "outputs": [],
   "source": [
    "from sklearn.datasets import load_diabetes\n",
    "diabetes = load_diabetes()"
   ]
  },
  {
   "cell_type": "code",
   "execution_count": 4,
   "id": "73039530",
   "metadata": {},
   "outputs": [],
   "source": [
    "df_x = diabetes.data\n",
    "df_y = diabetes.target"
   ]
  },
  {
   "cell_type": "code",
   "execution_count": 6,
   "id": "b6222ead",
   "metadata": {},
   "outputs": [],
   "source": [
    "import numpy as np\n",
    "\n",
    "df_x = np.array(df_x)\n",
    "df_y = np.array(df_y)"
   ]
  },
  {
   "cell_type": "code",
   "execution_count": 7,
   "id": "0852f561",
   "metadata": {},
   "outputs": [
    {
     "name": "stdout",
     "output_type": "stream",
     "text": [
      "(353, 10) (353,)\n",
      "(89, 10) (89,)\n"
     ]
    }
   ],
   "source": [
    "from sklearn.model_selection import train_test_split\n",
    "\n",
    "X_train, X_test, y_train, y_test = train_test_split(df_x, df_y, test_size=0.2, random_state=42)\n",
    "\n",
    "print(X_train.shape, y_train.shape)\n",
    "print(X_test.shape, y_test.shape)"
   ]
  },
  {
   "cell_type": "code",
   "execution_count": 29,
   "id": "34fc3382",
   "metadata": {},
   "outputs": [
    {
     "name": "stdout",
     "output_type": "stream",
     "text": [
      "W (가중치): [-0.59099522  1.83699839 -1.48892598 -0.29718621  1.61596381  1.29631673\n",
      "  0.99167208  0.68251908 -1.21084931 -1.11331183]\n",
      "b (편향): 0.0\n"
     ]
    }
   ],
   "source": [
    "n_features = X_train.shape[1]\n",
    "\n",
    "W = np.random.randn(n_features)\n",
    "\n",
    "b = 0.0\n",
    "\n",
    "print(\"W (가중치):\", W)\n",
    "print(\"b (편향):\", b)"
   ]
  },
  {
   "cell_type": "code",
   "execution_count": 10,
   "id": "b1acb3e3",
   "metadata": {},
   "outputs": [],
   "source": [
    "def model(X, W, b):\n",
    "    predictions = 0\n",
    "    for i in range(len(10)): \n",
    "        predictions += X[:, i] * W[i]\n",
    "    predictions += b\n",
    "    return predictions"
   ]
  },
  {
   "cell_type": "code",
   "execution_count": 11,
   "id": "2ceb9dbb",
   "metadata": {},
   "outputs": [],
   "source": [
    "def MSE(a, b):\n",
    "    mse = ((a - b) ** 2).mean()\n",
    "    return mse"
   ]
  },
  {
   "cell_type": "code",
   "execution_count": 13,
   "id": "97a45fd0",
   "metadata": {},
   "outputs": [],
   "source": [
    "def loss(X, W, b, y):\n",
    "    predictions = model(X, W, b)  \n",
    "    L = MSE(predictions, y)       \n",
    "    return L"
   ]
  },
  {
   "cell_type": "code",
   "execution_count": 15,
   "id": "937d8325",
   "metadata": {},
   "outputs": [
    {
     "name": "stdout",
     "output_type": "stream",
     "text": [
      "dW: [-1.87037139 -0.11053995 -4.99504281 -3.72058045 -1.32637221 -0.91379578\n",
      "  3.12533125 -3.29383079 -4.49796265 -3.52919775]\n",
      "db: -307.48009193890977\n"
     ]
    }
   ],
   "source": [
    "def model(X, W, b):\n",
    "    predictions = 0\n",
    "    for i in range(len(W)):\n",
    "        predictions += X[:, i] * W[i]\n",
    "    predictions += b\n",
    "    return predictions\n",
    "\n",
    "def gradient(X, W, b, y):\n",
    "    N = len(y)\n",
    "    \n",
    "    y_pred = model(X, W, b)\n",
    "    \n",
    "    dW = 1/N * 2 * X.T.dot(y_pred - y)\n",
    "        \n",
    "    db = 2 * (y_pred - y).mean()\n",
    "    \n",
    "    return dW, db\n",
    "\n",
    "dW, db = gradient(X_train, W, b, y_train)\n",
    "print(\"dW:\", dW)\n",
    "print(\"db:\", db)"
   ]
  },
  {
   "cell_type": "code",
   "execution_count": 16,
   "id": "5284faa8",
   "metadata": {},
   "outputs": [
    {
     "name": "stdout",
     "output_type": "stream",
     "text": [
      "Iteration 10: Loss 29631.5576\n",
      "Iteration 20: Loss 29537.4716\n",
      "Iteration 30: Loss 29443.7610\n",
      "Iteration 40: Loss 29350.4242\n",
      "Iteration 50: Loss 29257.4598\n",
      "Iteration 60: Loss 29164.8661\n",
      "Iteration 70: Loss 29072.6418\n",
      "Iteration 80: Loss 28980.7855\n",
      "Iteration 90: Loss 28889.2955\n",
      "Iteration 100: Loss 28798.1704\n",
      "Iteration 110: Loss 28707.4089\n",
      "Iteration 120: Loss 28617.0094\n",
      "Iteration 130: Loss 28526.9705\n",
      "Iteration 140: Loss 28437.2908\n",
      "Iteration 150: Loss 28347.9688\n",
      "Iteration 160: Loss 28259.0031\n",
      "Iteration 170: Loss 28170.3922\n",
      "Iteration 180: Loss 28082.1349\n",
      "Iteration 190: Loss 27994.2295\n",
      "Iteration 200: Loss 27906.6748\n",
      "Iteration 210: Loss 27819.4694\n",
      "Iteration 220: Loss 27732.6118\n",
      "Iteration 230: Loss 27646.1006\n",
      "Iteration 240: Loss 27559.9346\n",
      "Iteration 250: Loss 27474.1122\n",
      "Iteration 260: Loss 27388.6321\n",
      "Iteration 270: Loss 27303.4930\n",
      "Iteration 280: Loss 27218.6935\n",
      "Iteration 290: Loss 27134.2323\n",
      "Iteration 300: Loss 27050.1079\n",
      "Iteration 310: Loss 26966.3191\n",
      "Iteration 320: Loss 26882.8645\n",
      "Iteration 330: Loss 26799.7427\n",
      "Iteration 340: Loss 26716.9525\n",
      "Iteration 350: Loss 26634.4925\n",
      "Iteration 360: Loss 26552.3614\n",
      "Iteration 370: Loss 26470.5579\n",
      "Iteration 380: Loss 26389.0807\n",
      "Iteration 390: Loss 26307.9285\n",
      "Iteration 400: Loss 26227.0999\n",
      "Iteration 410: Loss 26146.5937\n",
      "Iteration 420: Loss 26066.4086\n",
      "Iteration 430: Loss 25986.5434\n",
      "Iteration 440: Loss 25906.9967\n",
      "Iteration 450: Loss 25827.7672\n",
      "Iteration 460: Loss 25748.8538\n",
      "Iteration 470: Loss 25670.2551\n",
      "Iteration 480: Loss 25591.9698\n",
      "Iteration 490: Loss 25513.9969\n",
      "Iteration 500: Loss 25436.3349\n",
      "Iteration 510: Loss 25358.9826\n",
      "Iteration 520: Loss 25281.9388\n",
      "Iteration 530: Loss 25205.2024\n",
      "Iteration 540: Loss 25128.7719\n",
      "Iteration 550: Loss 25052.6464\n",
      "Iteration 560: Loss 24976.8244\n",
      "Iteration 570: Loss 24901.3048\n",
      "Iteration 580: Loss 24826.0864\n",
      "Iteration 590: Loss 24751.1680\n",
      "Iteration 600: Loss 24676.5484\n",
      "Iteration 610: Loss 24602.2263\n",
      "Iteration 620: Loss 24528.2007\n",
      "Iteration 630: Loss 24454.4703\n",
      "Iteration 640: Loss 24381.0340\n",
      "Iteration 650: Loss 24307.8905\n",
      "Iteration 660: Loss 24235.0388\n",
      "Iteration 670: Loss 24162.4776\n",
      "Iteration 680: Loss 24090.2057\n",
      "Iteration 690: Loss 24018.2221\n",
      "Iteration 700: Loss 23946.5256\n",
      "Iteration 710: Loss 23875.1150\n",
      "Iteration 720: Loss 23803.9892\n",
      "Iteration 730: Loss 23733.1470\n",
      "Iteration 740: Loss 23662.5873\n",
      "Iteration 750: Loss 23592.3091\n",
      "Iteration 760: Loss 23522.3111\n",
      "Iteration 770: Loss 23452.5922\n",
      "Iteration 780: Loss 23383.1514\n",
      "Iteration 790: Loss 23313.9875\n",
      "Iteration 800: Loss 23245.0994\n",
      "Iteration 810: Loss 23176.4860\n",
      "Iteration 820: Loss 23108.1463\n",
      "Iteration 830: Loss 23040.0790\n",
      "Iteration 840: Loss 22972.2833\n",
      "Iteration 850: Loss 22904.7578\n",
      "Iteration 860: Loss 22837.5017\n",
      "Iteration 870: Loss 22770.5137\n",
      "Iteration 880: Loss 22703.7929\n",
      "Iteration 890: Loss 22637.3381\n",
      "Iteration 900: Loss 22571.1484\n",
      "Iteration 910: Loss 22505.2225\n",
      "Iteration 920: Loss 22439.5596\n",
      "Iteration 930: Loss 22374.1585\n",
      "Iteration 940: Loss 22309.0182\n",
      "Iteration 950: Loss 22244.1377\n",
      "Iteration 960: Loss 22179.5158\n",
      "Iteration 970: Loss 22115.1517\n",
      "Iteration 980: Loss 22051.0442\n",
      "Iteration 990: Loss 21987.1923\n",
      "Iteration 1000: Loss 21923.5951\n"
     ]
    },
    {
     "data": {
      "image/png": "[encoded data removed]",
      "text/plain": [
       "<Figure size 432x288 with 1 Axes>"
      ]
     },
     "metadata": {
      "needs_background": "light"
     },
     "output_type": "display_data"
    }
   ],
   "source": [
    "LEARNING_RATE = 0.0001\n",
    "losses = []\n",
    "\n",
    "\n",
    "for i in range(1, 1001):\n",
    "    dW, db = gradient(X_train, W, b, y_train)\n",
    "      \n",
    "    W -= LEARNING_RATE * dW\n",
    "    b -= LEARNING_RATE * db\n",
    "\n",
    "    L = loss(X_train, W, b, y_train)\n",
    "    \n",
    "    losses.append(L)\n",
    "    \n",
    "    if i % 10 == 0:\n",
    "        print(f'Iteration {i}: Loss {L:.4f}')\n",
    "\n",
    "\n",
    "import matplotlib.pyplot as plt\n",
    "plt.plot(losses)\n",
    "plt.xlabel('Iteration')\n",
    "plt.ylabel('Loss')\n",
    "plt.title('Loss over Iterations')\n",
    "plt.show()"
   ]
  },
  {
   "cell_type": "code",
   "execution_count": 27,
   "id": "72e0fc3a",
   "metadata": {},
   "outputs": [
    {
     "name": "stdout",
     "output_type": "stream",
     "text": [
      "Iteration 100: Loss 5385.245420\n",
      "Iteration 200: Loss 4879.835888\n",
      "Iteration 300: Loss 4504.291206\n",
      "Iteration 400: Loss 4221.557286\n",
      "Iteration 500: Loss 4005.569985\n",
      "Iteration 600: Loss 3837.951299\n",
      "Iteration 700: Loss 3705.703413\n",
      "Iteration 800: Loss 3599.598722\n",
      "Iteration 900: Loss 3513.055327\n",
      "Iteration 1000: Loss 3441.351222\n",
      "Iteration 1100: Loss 3381.074807\n",
      "Iteration 1200: Loss 3329.740345\n",
      "Iteration 1300: Loss 3285.518570\n",
      "Iteration 1400: Loss 3247.047717\n",
      "Iteration 1500: Loss 3213.300744\n",
      "Iteration 1600: Loss 3183.491846\n",
      "Iteration 1700: Loss 3157.010451\n",
      "Iteration 1800: Loss 3133.374477\n",
      "Iteration 1900: Loss 3112.197083\n",
      "Iteration 2000: Loss 3093.162906\n",
      "Iteration 2100: Loss 3076.010971\n",
      "Iteration 2200: Loss 3060.522305\n",
      "Iteration 2300: Loss 3046.510887\n",
      "Iteration 2400: Loss 3033.816961\n",
      "Iteration 2500: Loss 3022.302043\n",
      "Iteration 2600: Loss 3011.845130\n",
      "Iteration 2700: Loss 3002.339801\n",
      "Iteration 2800: Loss 2993.691947\n",
      "Iteration 2900: Loss 2985.817970\n",
      "Iteration 3000: Loss 2978.643344\n",
      "Iteration 3100: Loss 2972.101426\n",
      "Iteration 3200: Loss 2966.132481\n",
      "Iteration 3300: Loss 2960.682856\n",
      "Iteration 3400: Loss 2955.704284\n",
      "Iteration 3500: Loss 2951.153279\n",
      "Iteration 3600: Loss 2946.990621\n",
      "Iteration 3700: Loss 2943.180898\n",
      "Iteration 3800: Loss 2939.692113\n",
      "Iteration 3900: Loss 2936.495330\n",
      "Iteration 4000: Loss 2933.564362\n",
      "Iteration 4100: Loss 2930.875498\n",
      "Iteration 4200: Loss 2928.407255\n",
      "Iteration 4300: Loss 2926.140157\n",
      "Iteration 4400: Loss 2924.056540\n",
      "Iteration 4500: Loss 2922.140374\n",
      "Iteration 4600: Loss 2920.377108\n",
      "Iteration 4700: Loss 2918.753521\n",
      "Iteration 4800: Loss 2917.257603\n",
      "Iteration 4900: Loss 2915.878432\n",
      "Iteration 5000: Loss 2914.606075\n",
      "Iteration 5100: Loss 2913.431491\n",
      "Iteration 5200: Loss 2912.346453\n",
      "Iteration 5300: Loss 2911.343465\n",
      "Iteration 5400: Loss 2910.415696\n",
      "Iteration 5500: Loss 2909.556922\n",
      "Iteration 5600: Loss 2908.761461\n",
      "Iteration 5700: Loss 2908.024134\n",
      "Iteration 5800: Loss 2907.340210\n",
      "Iteration 5900: Loss 2906.705369\n",
      "Iteration 6000: Loss 2906.115662\n",
      "Iteration 6100: Loss 2905.567482\n",
      "Iteration 6200: Loss 2905.057529\n",
      "Iteration 6300: Loss 2904.582781\n",
      "Iteration 6400: Loss 2904.140476\n",
      "Iteration 6500: Loss 2903.728080\n",
      "Iteration 6600: Loss 2903.343274\n",
      "Iteration 6700: Loss 2902.983930\n",
      "Iteration 6800: Loss 2902.648098\n",
      "Iteration 6900: Loss 2902.333987\n",
      "Iteration 7000: Loss 2902.039955\n",
      "Iteration 7100: Loss 2901.764491\n",
      "Iteration 7200: Loss 2901.506208\n",
      "Iteration 7300: Loss 2901.263830\n",
      "Iteration 7400: Loss 2901.036184\n",
      "Iteration 7500: Loss 2900.822191\n",
      "Iteration 7600: Loss 2900.620855\n",
      "Iteration 7700: Loss 2900.431262\n",
      "Iteration 7800: Loss 2900.252565\n",
      "Iteration 7900: Loss 2900.083988\n",
      "Iteration 8000: Loss 2899.924812\n",
      "Iteration 8100: Loss 2899.774373\n",
      "Iteration 8200: Loss 2899.632059\n",
      "Iteration 8300: Loss 2899.497305\n",
      "Iteration 8400: Loss 2899.369587\n",
      "Iteration 8500: Loss 2899.248423\n",
      "Iteration 8600: Loss 2899.133364\n",
      "Iteration 8700: Loss 2899.023995\n",
      "Iteration 8800: Loss 2898.919934\n",
      "Iteration 8900: Loss 2898.820824\n",
      "Iteration 9000: Loss 2898.726336\n",
      "Iteration 9100: Loss 2898.636163\n",
      "Iteration 9200: Loss 2898.550023\n",
      "Iteration 9300: Loss 2898.467651\n",
      "Iteration 9400: Loss 2898.388803\n",
      "Iteration 9500: Loss 2898.313251\n",
      "Iteration 9600: Loss 2898.240784\n",
      "Iteration 9700: Loss 2898.171205\n",
      "Iteration 9800: Loss 2898.104331\n",
      "Iteration 9900: Loss 2898.039991\n",
      "Iteration 10000: Loss 2897.978027\n",
      "Final loss: 2897.978027\n"
     ]
    },
    {
     "data": {
      "image/png": "[encoded data removed]",
      "text/plain": [
       "<Figure size 432x288 with 1 Axes>"
      ]
     },
     "metadata": {
      "needs_background": "light"
     },
     "output_type": "display_data"
    }
   ],
   "source": [
    "LEARNING_RATE = 0.1 # 학습율 조정\n",
    "MAX_ITERATIONS = 10000  # 최대 반복 횟수\n",
    "TOLERANCE = 1e-6  \n",
    "\n",
    "W = np.random.randn(X_train.shape[1])\n",
    "b = 0.0\n",
    "\n",
    "losses = []\n",
    "\n",
    "for i in range(1, MAX_ITERATIONS + 1):\n",
    "    dW, db = gradient(X_train, W, b, y_train)\n",
    "    \n",
    "    W -= LEARNING_RATE * dW\n",
    "    b -= LEARNING_RATE * db\n",
    "    \n",
    "    L = loss(X_train, W, b, y_train)\n",
    "    losses.append(L)\n",
    "    \n",
    "    if i % 100 == 0:\n",
    "        print(f'Iteration {i}: Loss {L:.6f}')\n",
    "    \n",
    "    if L < TOLERANCE:\n",
    "        print(f'Converged after {i} iterations with loss {L:.6f}')\n",
    "        break\n",
    "\n",
    "\n",
    "print(f'Final loss: {L:.6f}')\n",
    "\n",
    "import matplotlib.pyplot as plt\n",
    "plt.plot(losses)\n",
    "plt.xlabel('Iteration')\n",
    "plt.ylabel('Loss')\n",
    "plt.title('Loss over Iterations')\n",
    "plt.show()"
   ]
  },
  {
   "cell_type": "code",
   "execution_count": 24,
   "id": "02768872",
   "metadata": {},
   "outputs": [
    {
     "name": "stdout",
     "output_type": "stream",
     "text": [
      "Test Loss (MSE): 2880.044388\n"
     ]
    }
   ],
   "source": [
    "y_test_pred = model(X_test, W, b)\n",
    "\n",
    "test_loss = MSE(y_test, y_test_pred)\n",
    "\n",
    "print(f'Test Loss (MSE): {test_loss:.6f}')"
   ]
  },
  {
   "cell_type": "code",
   "execution_count": 25,
   "id": "fdf8e7f5",
   "metadata": {
    "scrolled": true
   },
   "outputs": [
    {
     "data": {
      "image/png": "[encoded data removed]",
      "text/plain": [
       "<Figure size 432x288 with 1 Axes>"
      ]
     },
     "metadata": {
      "needs_background": "light"
     },
     "output_type": "display_data"
    }
   ],
   "source": [
    "plt.scatter(X_test[:, 0], y_test, color='blue', label='Actual')\n",
    "plt.scatter(X_test[:, 0], y_test_pred, color='red', label='Predicted')\n",
    "\n",
    "plt.legend()\n",
    "plt.show()"
   ]
  },
  {
   "cell_type": "code",
   "execution_count": 28,
   "id": "bbc7be88",
   "metadata": {
    "scrolled": true
   },
   "outputs": [
    {
     "name": "stdout",
     "output_type": "stream",
     "text": [
      "W (가중치): [  39.94255693 -236.75281192  550.2047643   340.33490237  -98.48480556\n",
      " -126.83798681 -215.67551141  148.98337344  411.34676939   71.81687902]\n",
      "b (편향): 151.30379965064733\n"
     ]
    }
   ],
   "source": [
    "print(\"W (가중치):\", W)\n",
    "print(\"b (편향):\", b)"
   ]
  }
 ],
 "metadata": {
  "kernelspec": {
   "display_name": "Python 3 (ipykernel)",
   "language": "python",
   "name": "python3"
  },
  "language_info": {
   "codemirror_mode": {
    "name": "ipython",
    "version": 3
   },
   "file_extension": ".py",
   "mimetype": "text/x-python",
   "name": "python",
   "nbconvert_exporter": "python",
   "pygments_lexer": "ipython3",
   "version": "3.9.7"
  }
 },
 "nbformat": 4,
 "nbformat_minor": 5
}
